{
  "nbformat": 4,
  "nbformat_minor": 0,
  "metadata": {
    "colab": {
      "provenance": []
    },
    "kernelspec": {
      "name": "python3",
      "display_name": "Python 3"
    }
  },
  "cells": [
    {
      "cell_type": "code",
      "metadata": {
        "id": "zBiiak3hK_MJ"
      },
      "source": [
        "import matplotlib.pyplot as plt\n",
        "import numpy as np\n",
        "import pandas as pd\n",
        "\n",
        "\n",
        "\n",
        "from sklearn import metrics\n",
        "from sklearn.metrics import classification_report,confusion_matrix"
      ],
      "execution_count": 254,
      "outputs": []
    },
    {
      "cell_type": "code",
      "metadata": {
        "id": "FoamtCkcLvQE"
      },
      "source": [
        "import warnings\n",
        "warnings.filterwarnings(action=\"ignore\")\n",
        "%matplotlib inline\n",
        "pd.set_option(\"display.max_rows\", 1000)\n",
        "pd.set_option(\"display.max_columns\", 1000)"
      ],
      "execution_count": 255,
      "outputs": []
    },
    {
      "cell_type": "code",
      "metadata": {
        "id": "jDj_jXIkMWc0",
        "colab": {
          "base_uri": "https://localhost:8080/",
          "height": 519
        },
        "outputId": "a1119420-3dc2-4b68-a752-69f3659967bf"
      },
      "source": [
        "fires = pd.read_csv(\"/content/modis_2022_India.csv\")    #reading the dataset\n",
        "fires.head(15)    #show the first 15 instances of dataset\n"
      ],
      "execution_count": 256,
      "outputs": [
        {
          "output_type": "execute_result",
          "data": {
            "text/plain": [
              "    brightness  number22  acq_time  confidence  bright_t31   frp  type\n",
              "0        313.5       1.0     826.0        61.0       297.6   6.9     0\n",
              "1        344.5       2.0    1649.0        26.0       290.0  10.2     0\n",
              "2        316.7       3.0     813.0        62.0       297.3  15.0     0\n",
              "3        312.0       4.0     545.0        70.0       303.1  10.8     0\n",
              "4        308.5       5.0    1718.0        70.0       289.6  10.1     0\n",
              "5        304.9       6.0     534.0        80.0       296.8  29.3     0\n",
              "6        314.6       7.0    1707.0        51.0       290.5   5.5     0\n",
              "7        307.9       8.0     521.0        42.0       296.4   8.0     0\n",
              "8        304.3       9.0     603.0        65.0       299.3  36.7     0\n",
              "9        351.0      10.0     819.0        64.0       297.7  10.0     0\n",
              "10       301.6      11.0     903.0        45.0       296.9  23.0     0\n",
              "11       314.9      12.0     807.0        70.0       299.5  25.3     0\n",
              "12       318.2      13.0     539.0        47.0       299.4   7.1     0\n",
              "13       311.6      14.0     755.0        25.0       302.5  19.3     0\n",
              "14       307.6      15.0     528.0        70.0       291.8  12.7     0"
            ],
            "text/html": [
              "\n",
              "  <div id=\"df-ea8c4d7b-b76c-4ff4-aa8e-0712e34661ed\" class=\"colab-df-container\">\n",
              "    <div>\n",
              "<style scoped>\n",
              "    .dataframe tbody tr th:only-of-type {\n",
              "        vertical-align: middle;\n",
              "    }\n",
              "\n",
              "    .dataframe tbody tr th {\n",
              "        vertical-align: top;\n",
              "    }\n",
              "\n",
              "    .dataframe thead th {\n",
              "        text-align: right;\n",
              "    }\n",
              "</style>\n",
              "<table border=\"1\" class=\"dataframe\">\n",
              "  <thead>\n",
              "    <tr style=\"text-align: right;\">\n",
              "      <th></th>\n",
              "      <th>brightness</th>\n",
              "      <th>number22</th>\n",
              "      <th>acq_time</th>\n",
              "      <th>confidence</th>\n",
              "      <th>bright_t31</th>\n",
              "      <th>frp</th>\n",
              "      <th>type</th>\n",
              "    </tr>\n",
              "  </thead>\n",
              "  <tbody>\n",
              "    <tr>\n",
              "      <th>0</th>\n",
              "      <td>313.5</td>\n",
              "      <td>1.0</td>\n",
              "      <td>826.0</td>\n",
              "      <td>61.0</td>\n",
              "      <td>297.6</td>\n",
              "      <td>6.9</td>\n",
              "      <td>0</td>\n",
              "    </tr>\n",
              "    <tr>\n",
              "      <th>1</th>\n",
              "      <td>344.5</td>\n",
              "      <td>2.0</td>\n",
              "      <td>1649.0</td>\n",
              "      <td>26.0</td>\n",
              "      <td>290.0</td>\n",
              "      <td>10.2</td>\n",
              "      <td>0</td>\n",
              "    </tr>\n",
              "    <tr>\n",
              "      <th>2</th>\n",
              "      <td>316.7</td>\n",
              "      <td>3.0</td>\n",
              "      <td>813.0</td>\n",
              "      <td>62.0</td>\n",
              "      <td>297.3</td>\n",
              "      <td>15.0</td>\n",
              "      <td>0</td>\n",
              "    </tr>\n",
              "    <tr>\n",
              "      <th>3</th>\n",
              "      <td>312.0</td>\n",
              "      <td>4.0</td>\n",
              "      <td>545.0</td>\n",
              "      <td>70.0</td>\n",
              "      <td>303.1</td>\n",
              "      <td>10.8</td>\n",
              "      <td>0</td>\n",
              "    </tr>\n",
              "    <tr>\n",
              "      <th>4</th>\n",
              "      <td>308.5</td>\n",
              "      <td>5.0</td>\n",
              "      <td>1718.0</td>\n",
              "      <td>70.0</td>\n",
              "      <td>289.6</td>\n",
              "      <td>10.1</td>\n",
              "      <td>0</td>\n",
              "    </tr>\n",
              "    <tr>\n",
              "      <th>5</th>\n",
              "      <td>304.9</td>\n",
              "      <td>6.0</td>\n",
              "      <td>534.0</td>\n",
              "      <td>80.0</td>\n",
              "      <td>296.8</td>\n",
              "      <td>29.3</td>\n",
              "      <td>0</td>\n",
              "    </tr>\n",
              "    <tr>\n",
              "      <th>6</th>\n",
              "      <td>314.6</td>\n",
              "      <td>7.0</td>\n",
              "      <td>1707.0</td>\n",
              "      <td>51.0</td>\n",
              "      <td>290.5</td>\n",
              "      <td>5.5</td>\n",
              "      <td>0</td>\n",
              "    </tr>\n",
              "    <tr>\n",
              "      <th>7</th>\n",
              "      <td>307.9</td>\n",
              "      <td>8.0</td>\n",
              "      <td>521.0</td>\n",
              "      <td>42.0</td>\n",
              "      <td>296.4</td>\n",
              "      <td>8.0</td>\n",
              "      <td>0</td>\n",
              "    </tr>\n",
              "    <tr>\n",
              "      <th>8</th>\n",
              "      <td>304.3</td>\n",
              "      <td>9.0</td>\n",
              "      <td>603.0</td>\n",
              "      <td>65.0</td>\n",
              "      <td>299.3</td>\n",
              "      <td>36.7</td>\n",
              "      <td>0</td>\n",
              "    </tr>\n",
              "    <tr>\n",
              "      <th>9</th>\n",
              "      <td>351.0</td>\n",
              "      <td>10.0</td>\n",
              "      <td>819.0</td>\n",
              "      <td>64.0</td>\n",
              "      <td>297.7</td>\n",
              "      <td>10.0</td>\n",
              "      <td>0</td>\n",
              "    </tr>\n",
              "    <tr>\n",
              "      <th>10</th>\n",
              "      <td>301.6</td>\n",
              "      <td>11.0</td>\n",
              "      <td>903.0</td>\n",
              "      <td>45.0</td>\n",
              "      <td>296.9</td>\n",
              "      <td>23.0</td>\n",
              "      <td>0</td>\n",
              "    </tr>\n",
              "    <tr>\n",
              "      <th>11</th>\n",
              "      <td>314.9</td>\n",
              "      <td>12.0</td>\n",
              "      <td>807.0</td>\n",
              "      <td>70.0</td>\n",
              "      <td>299.5</td>\n",
              "      <td>25.3</td>\n",
              "      <td>0</td>\n",
              "    </tr>\n",
              "    <tr>\n",
              "      <th>12</th>\n",
              "      <td>318.2</td>\n",
              "      <td>13.0</td>\n",
              "      <td>539.0</td>\n",
              "      <td>47.0</td>\n",
              "      <td>299.4</td>\n",
              "      <td>7.1</td>\n",
              "      <td>0</td>\n",
              "    </tr>\n",
              "    <tr>\n",
              "      <th>13</th>\n",
              "      <td>311.6</td>\n",
              "      <td>14.0</td>\n",
              "      <td>755.0</td>\n",
              "      <td>25.0</td>\n",
              "      <td>302.5</td>\n",
              "      <td>19.3</td>\n",
              "      <td>0</td>\n",
              "    </tr>\n",
              "    <tr>\n",
              "      <th>14</th>\n",
              "      <td>307.6</td>\n",
              "      <td>15.0</td>\n",
              "      <td>528.0</td>\n",
              "      <td>70.0</td>\n",
              "      <td>291.8</td>\n",
              "      <td>12.7</td>\n",
              "      <td>0</td>\n",
              "    </tr>\n",
              "  </tbody>\n",
              "</table>\n",
              "</div>\n",
              "    <div class=\"colab-df-buttons\">\n",
              "\n",
              "  <div class=\"colab-df-container\">\n",
              "    <button class=\"colab-df-convert\" onclick=\"convertToInteractive('df-ea8c4d7b-b76c-4ff4-aa8e-0712e34661ed')\"\n",
              "            title=\"Convert this dataframe to an interactive table.\"\n",
              "            style=\"display:none;\">\n",
              "\n",
              "  <svg xmlns=\"http://www.w3.org/2000/svg\" height=\"24px\" viewBox=\"0 -960 960 960\">\n",
              "    <path d=\"M120-120v-720h720v720H120Zm60-500h600v-160H180v160Zm220 220h160v-160H400v160Zm0 220h160v-160H400v160ZM180-400h160v-160H180v160Zm440 0h160v-160H620v160ZM180-180h160v-160H180v160Zm440 0h160v-160H620v160Z\"/>\n",
              "  </svg>\n",
              "    </button>\n",
              "\n",
              "  <style>\n",
              "    .colab-df-container {\n",
              "      display:flex;\n",
              "      gap: 12px;\n",
              "    }\n",
              "\n",
              "    .colab-df-convert {\n",
              "      background-color: #E8F0FE;\n",
              "      border: none;\n",
              "      border-radius: 50%;\n",
              "      cursor: pointer;\n",
              "      display: none;\n",
              "      fill: #1967D2;\n",
              "      height: 32px;\n",
              "      padding: 0 0 0 0;\n",
              "      width: 32px;\n",
              "    }\n",
              "\n",
              "    .colab-df-convert:hover {\n",
              "      background-color: #E2EBFA;\n",
              "      box-shadow: 0px 1px 2px rgba(60, 64, 67, 0.3), 0px 1px 3px 1px rgba(60, 64, 67, 0.15);\n",
              "      fill: #174EA6;\n",
              "    }\n",
              "\n",
              "    .colab-df-buttons div {\n",
              "      margin-bottom: 4px;\n",
              "    }\n",
              "\n",
              "    [theme=dark] .colab-df-convert {\n",
              "      background-color: #3B4455;\n",
              "      fill: #D2E3FC;\n",
              "    }\n",
              "\n",
              "    [theme=dark] .colab-df-convert:hover {\n",
              "      background-color: #434B5C;\n",
              "      box-shadow: 0px 1px 3px 1px rgba(0, 0, 0, 0.15);\n",
              "      filter: drop-shadow(0px 1px 2px rgba(0, 0, 0, 0.3));\n",
              "      fill: #FFFFFF;\n",
              "    }\n",
              "  </style>\n",
              "\n",
              "    <script>\n",
              "      const buttonEl =\n",
              "        document.querySelector('#df-ea8c4d7b-b76c-4ff4-aa8e-0712e34661ed button.colab-df-convert');\n",
              "      buttonEl.style.display =\n",
              "        google.colab.kernel.accessAllowed ? 'block' : 'none';\n",
              "\n",
              "      async function convertToInteractive(key) {\n",
              "        const element = document.querySelector('#df-ea8c4d7b-b76c-4ff4-aa8e-0712e34661ed');\n",
              "        const dataTable =\n",
              "          await google.colab.kernel.invokeFunction('convertToInteractive',\n",
              "                                                    [key], {});\n",
              "        if (!dataTable) return;\n",
              "\n",
              "        const docLinkHtml = 'Like what you see? Visit the ' +\n",
              "          '<a target=\"_blank\" href=https://colab.research.google.com/notebooks/data_table.ipynb>data table notebook</a>'\n",
              "          + ' to learn more about interactive tables.';\n",
              "        element.innerHTML = '';\n",
              "        dataTable['output_type'] = 'display_data';\n",
              "        await google.colab.output.renderOutput(dataTable, element);\n",
              "        const docLink = document.createElement('div');\n",
              "        docLink.innerHTML = docLinkHtml;\n",
              "        element.appendChild(docLink);\n",
              "      }\n",
              "    </script>\n",
              "  </div>\n",
              "\n",
              "\n",
              "<div id=\"df-4295433f-a13f-4c23-bea2-d0917ed7edd0\">\n",
              "  <button class=\"colab-df-quickchart\" onclick=\"quickchart('df-4295433f-a13f-4c23-bea2-d0917ed7edd0')\"\n",
              "            title=\"Suggest charts\"\n",
              "            style=\"display:none;\">\n",
              "\n",
              "<svg xmlns=\"http://www.w3.org/2000/svg\" height=\"24px\"viewBox=\"0 0 24 24\"\n",
              "     width=\"24px\">\n",
              "    <g>\n",
              "        <path d=\"M19 3H5c-1.1 0-2 .9-2 2v14c0 1.1.9 2 2 2h14c1.1 0 2-.9 2-2V5c0-1.1-.9-2-2-2zM9 17H7v-7h2v7zm4 0h-2V7h2v10zm4 0h-2v-4h2v4z\"/>\n",
              "    </g>\n",
              "</svg>\n",
              "  </button>\n",
              "\n",
              "<style>\n",
              "  .colab-df-quickchart {\n",
              "      --bg-color: #E8F0FE;\n",
              "      --fill-color: #1967D2;\n",
              "      --hover-bg-color: #E2EBFA;\n",
              "      --hover-fill-color: #174EA6;\n",
              "      --disabled-fill-color: #AAA;\n",
              "      --disabled-bg-color: #DDD;\n",
              "  }\n",
              "\n",
              "  [theme=dark] .colab-df-quickchart {\n",
              "      --bg-color: #3B4455;\n",
              "      --fill-color: #D2E3FC;\n",
              "      --hover-bg-color: #434B5C;\n",
              "      --hover-fill-color: #FFFFFF;\n",
              "      --disabled-bg-color: #3B4455;\n",
              "      --disabled-fill-color: #666;\n",
              "  }\n",
              "\n",
              "  .colab-df-quickchart {\n",
              "    background-color: var(--bg-color);\n",
              "    border: none;\n",
              "    border-radius: 50%;\n",
              "    cursor: pointer;\n",
              "    display: none;\n",
              "    fill: var(--fill-color);\n",
              "    height: 32px;\n",
              "    padding: 0;\n",
              "    width: 32px;\n",
              "  }\n",
              "\n",
              "  .colab-df-quickchart:hover {\n",
              "    background-color: var(--hover-bg-color);\n",
              "    box-shadow: 0 1px 2px rgba(60, 64, 67, 0.3), 0 1px 3px 1px rgba(60, 64, 67, 0.15);\n",
              "    fill: var(--button-hover-fill-color);\n",
              "  }\n",
              "\n",
              "  .colab-df-quickchart-complete:disabled,\n",
              "  .colab-df-quickchart-complete:disabled:hover {\n",
              "    background-color: var(--disabled-bg-color);\n",
              "    fill: var(--disabled-fill-color);\n",
              "    box-shadow: none;\n",
              "  }\n",
              "\n",
              "  .colab-df-spinner {\n",
              "    border: 2px solid var(--fill-color);\n",
              "    border-color: transparent;\n",
              "    border-bottom-color: var(--fill-color);\n",
              "    animation:\n",
              "      spin 1s steps(1) infinite;\n",
              "  }\n",
              "\n",
              "  @keyframes spin {\n",
              "    0% {\n",
              "      border-color: transparent;\n",
              "      border-bottom-color: var(--fill-color);\n",
              "      border-left-color: var(--fill-color);\n",
              "    }\n",
              "    20% {\n",
              "      border-color: transparent;\n",
              "      border-left-color: var(--fill-color);\n",
              "      border-top-color: var(--fill-color);\n",
              "    }\n",
              "    30% {\n",
              "      border-color: transparent;\n",
              "      border-left-color: var(--fill-color);\n",
              "      border-top-color: var(--fill-color);\n",
              "      border-right-color: var(--fill-color);\n",
              "    }\n",
              "    40% {\n",
              "      border-color: transparent;\n",
              "      border-right-color: var(--fill-color);\n",
              "      border-top-color: var(--fill-color);\n",
              "    }\n",
              "    60% {\n",
              "      border-color: transparent;\n",
              "      border-right-color: var(--fill-color);\n",
              "    }\n",
              "    80% {\n",
              "      border-color: transparent;\n",
              "      border-right-color: var(--fill-color);\n",
              "      border-bottom-color: var(--fill-color);\n",
              "    }\n",
              "    90% {\n",
              "      border-color: transparent;\n",
              "      border-bottom-color: var(--fill-color);\n",
              "    }\n",
              "  }\n",
              "</style>\n",
              "\n",
              "  <script>\n",
              "    async function quickchart(key) {\n",
              "      const quickchartButtonEl =\n",
              "        document.querySelector('#' + key + ' button');\n",
              "      quickchartButtonEl.disabled = true;  // To prevent multiple clicks.\n",
              "      quickchartButtonEl.classList.add('colab-df-spinner');\n",
              "      try {\n",
              "        const charts = await google.colab.kernel.invokeFunction(\n",
              "            'suggestCharts', [key], {});\n",
              "      } catch (error) {\n",
              "        console.error('Error during call to suggestCharts:', error);\n",
              "      }\n",
              "      quickchartButtonEl.classList.remove('colab-df-spinner');\n",
              "      quickchartButtonEl.classList.add('colab-df-quickchart-complete');\n",
              "    }\n",
              "    (() => {\n",
              "      let quickchartButtonEl =\n",
              "        document.querySelector('#df-4295433f-a13f-4c23-bea2-d0917ed7edd0 button');\n",
              "      quickchartButtonEl.style.display =\n",
              "        google.colab.kernel.accessAllowed ? 'block' : 'none';\n",
              "    })();\n",
              "  </script>\n",
              "</div>\n",
              "\n",
              "    </div>\n",
              "  </div>\n"
            ],
            "application/vnd.google.colaboratory.intrinsic+json": {
              "type": "dataframe",
              "variable_name": "fires",
              "summary": "{\n  \"name\": \"fires\",\n  \"rows\": 363,\n  \"fields\": [\n    {\n      \"column\": \"brightness\",\n      \"properties\": {\n        \"dtype\": \"number\",\n        \"std\": 12.892101767863064,\n        \"min\": 300.3,\n        \"max\": 386.4,\n        \"num_unique_values\": 247,\n        \"samples\": [\n          314.1,\n          314.6,\n          320.8\n        ],\n        \"semantic_type\": \"\",\n        \"description\": \"\"\n      }\n    },\n    {\n      \"column\": \"number22\",\n      \"properties\": {\n        \"dtype\": \"number\",\n        \"std\": 105.80057494206132,\n        \"min\": 1.0,\n        \"max\": 365.0,\n        \"num_unique_values\": 362,\n        \"samples\": [\n          164.0,\n          34.0,\n          16.0\n        ],\n        \"semantic_type\": \"\",\n        \"description\": \"\"\n      }\n    },\n    {\n      \"column\": \"acq_time\",\n      \"properties\": {\n        \"dtype\": \"number\",\n        \"std\": 452.8749409420553,\n        \"min\": 421.0,\n        \"max\": 2110.0,\n        \"num_unique_values\": 204,\n        \"samples\": [\n          1700.0,\n          819.0,\n          531.0\n        ],\n        \"semantic_type\": \"\",\n        \"description\": \"\"\n      }\n    },\n    {\n      \"column\": \"confidence\",\n      \"properties\": {\n        \"dtype\": \"number\",\n        \"std\": 20.237417138753823,\n        \"min\": 0.0,\n        \"max\": 98.0,\n        \"num_unique_values\": 73,\n        \"samples\": [\n          80.0,\n          55.0,\n          58.0\n        ],\n        \"semantic_type\": \"\",\n        \"description\": \"\"\n      }\n    },\n    {\n      \"column\": \"bright_t31\",\n      \"properties\": {\n        \"dtype\": \"number\",\n        \"std\": 7.019745782902907,\n        \"min\": 272.8,\n        \"max\": 317.4,\n        \"num_unique_values\": 195,\n        \"samples\": [\n          287.0,\n          291.2,\n          282.2\n        ],\n        \"semantic_type\": \"\",\n        \"description\": \"\"\n      }\n    },\n    {\n      \"column\": \"frp\",\n      \"properties\": {\n        \"dtype\": \"number\",\n        \"std\": 15.462711849879588,\n        \"min\": 3.3,\n        \"max\": 158.0,\n        \"num_unique_values\": 202,\n        \"samples\": [\n          17.3,\n          6.2,\n          41.8\n        ],\n        \"semantic_type\": \"\",\n        \"description\": \"\"\n      }\n    },\n    {\n      \"column\": \"type\",\n      \"properties\": {\n        \"dtype\": \"number\",\n        \"std\": 0,\n        \"min\": 0,\n        \"max\": 2,\n        \"num_unique_values\": 2,\n        \"samples\": [\n          2,\n          0\n        ],\n        \"semantic_type\": \"\",\n        \"description\": \"\"\n      }\n    }\n  ]\n}"
            }
          },
          "metadata": {},
          "execution_count": 256
        }
      ]
    },
    {
      "cell_type": "code",
      "metadata": {
        "id": "ZWBhKCMaMs10",
        "colab": {
          "base_uri": "https://localhost:8080/",
          "height": 269
        },
        "outputId": "a22f2578-80bc-43c8-8b07-2591ee328526"
      },
      "source": [
        "#generate descriptive statistics of each attribute\n",
        "fires.describe().T"
      ],
      "execution_count": 257,
      "outputs": [
        {
          "output_type": "execute_result",
          "data": {
            "text/plain": [
              "            count        mean         std    min     25%    50%      75%  \\\n",
              "brightness  363.0  322.590358   12.892102  300.3  313.60  321.3  330.900   \n",
              "number22    362.0  182.538674  105.800575    1.0   91.25  181.5  274.750   \n",
              "acq_time    362.0  870.610497  452.874941  421.0  528.00  755.5  845.250   \n",
              "confidence  362.0   53.878453   20.237417    0.0   43.00   58.0   68.000   \n",
              "bright_t31  362.0  296.263812    7.019746  272.8  291.80  296.7  300.875   \n",
              "frp         362.0   16.284254   15.462712    3.3    7.30   11.3   19.300   \n",
              "type        363.0    0.011019    0.148249    0.0    0.00    0.0    0.000   \n",
              "\n",
              "               max  \n",
              "brightness   386.4  \n",
              "number22     365.0  \n",
              "acq_time    2110.0  \n",
              "confidence    98.0  \n",
              "bright_t31   317.4  \n",
              "frp          158.0  \n",
              "type           2.0  "
            ],
            "text/html": [
              "\n",
              "  <div id=\"df-8476e614-d156-42f3-bf8f-3c230f126211\" class=\"colab-df-container\">\n",
              "    <div>\n",
              "<style scoped>\n",
              "    .dataframe tbody tr th:only-of-type {\n",
              "        vertical-align: middle;\n",
              "    }\n",
              "\n",
              "    .dataframe tbody tr th {\n",
              "        vertical-align: top;\n",
              "    }\n",
              "\n",
              "    .dataframe thead th {\n",
              "        text-align: right;\n",
              "    }\n",
              "</style>\n",
              "<table border=\"1\" class=\"dataframe\">\n",
              "  <thead>\n",
              "    <tr style=\"text-align: right;\">\n",
              "      <th></th>\n",
              "      <th>count</th>\n",
              "      <th>mean</th>\n",
              "      <th>std</th>\n",
              "      <th>min</th>\n",
              "      <th>25%</th>\n",
              "      <th>50%</th>\n",
              "      <th>75%</th>\n",
              "      <th>max</th>\n",
              "    </tr>\n",
              "  </thead>\n",
              "  <tbody>\n",
              "    <tr>\n",
              "      <th>brightness</th>\n",
              "      <td>363.0</td>\n",
              "      <td>322.590358</td>\n",
              "      <td>12.892102</td>\n",
              "      <td>300.3</td>\n",
              "      <td>313.60</td>\n",
              "      <td>321.3</td>\n",
              "      <td>330.900</td>\n",
              "      <td>386.4</td>\n",
              "    </tr>\n",
              "    <tr>\n",
              "      <th>number22</th>\n",
              "      <td>362.0</td>\n",
              "      <td>182.538674</td>\n",
              "      <td>105.800575</td>\n",
              "      <td>1.0</td>\n",
              "      <td>91.25</td>\n",
              "      <td>181.5</td>\n",
              "      <td>274.750</td>\n",
              "      <td>365.0</td>\n",
              "    </tr>\n",
              "    <tr>\n",
              "      <th>acq_time</th>\n",
              "      <td>362.0</td>\n",
              "      <td>870.610497</td>\n",
              "      <td>452.874941</td>\n",
              "      <td>421.0</td>\n",
              "      <td>528.00</td>\n",
              "      <td>755.5</td>\n",
              "      <td>845.250</td>\n",
              "      <td>2110.0</td>\n",
              "    </tr>\n",
              "    <tr>\n",
              "      <th>confidence</th>\n",
              "      <td>362.0</td>\n",
              "      <td>53.878453</td>\n",
              "      <td>20.237417</td>\n",
              "      <td>0.0</td>\n",
              "      <td>43.00</td>\n",
              "      <td>58.0</td>\n",
              "      <td>68.000</td>\n",
              "      <td>98.0</td>\n",
              "    </tr>\n",
              "    <tr>\n",
              "      <th>bright_t31</th>\n",
              "      <td>362.0</td>\n",
              "      <td>296.263812</td>\n",
              "      <td>7.019746</td>\n",
              "      <td>272.8</td>\n",
              "      <td>291.80</td>\n",
              "      <td>296.7</td>\n",
              "      <td>300.875</td>\n",
              "      <td>317.4</td>\n",
              "    </tr>\n",
              "    <tr>\n",
              "      <th>frp</th>\n",
              "      <td>362.0</td>\n",
              "      <td>16.284254</td>\n",
              "      <td>15.462712</td>\n",
              "      <td>3.3</td>\n",
              "      <td>7.30</td>\n",
              "      <td>11.3</td>\n",
              "      <td>19.300</td>\n",
              "      <td>158.0</td>\n",
              "    </tr>\n",
              "    <tr>\n",
              "      <th>type</th>\n",
              "      <td>363.0</td>\n",
              "      <td>0.011019</td>\n",
              "      <td>0.148249</td>\n",
              "      <td>0.0</td>\n",
              "      <td>0.00</td>\n",
              "      <td>0.0</td>\n",
              "      <td>0.000</td>\n",
              "      <td>2.0</td>\n",
              "    </tr>\n",
              "  </tbody>\n",
              "</table>\n",
              "</div>\n",
              "    <div class=\"colab-df-buttons\">\n",
              "\n",
              "  <div class=\"colab-df-container\">\n",
              "    <button class=\"colab-df-convert\" onclick=\"convertToInteractive('df-8476e614-d156-42f3-bf8f-3c230f126211')\"\n",
              "            title=\"Convert this dataframe to an interactive table.\"\n",
              "            style=\"display:none;\">\n",
              "\n",
              "  <svg xmlns=\"http://www.w3.org/2000/svg\" height=\"24px\" viewBox=\"0 -960 960 960\">\n",
              "    <path d=\"M120-120v-720h720v720H120Zm60-500h600v-160H180v160Zm220 220h160v-160H400v160Zm0 220h160v-160H400v160ZM180-400h160v-160H180v160Zm440 0h160v-160H620v160ZM180-180h160v-160H180v160Zm440 0h160v-160H620v160Z\"/>\n",
              "  </svg>\n",
              "    </button>\n",
              "\n",
              "  <style>\n",
              "    .colab-df-container {\n",
              "      display:flex;\n",
              "      gap: 12px;\n",
              "    }\n",
              "\n",
              "    .colab-df-convert {\n",
              "      background-color: #E8F0FE;\n",
              "      border: none;\n",
              "      border-radius: 50%;\n",
              "      cursor: pointer;\n",
              "      display: none;\n",
              "      fill: #1967D2;\n",
              "      height: 32px;\n",
              "      padding: 0 0 0 0;\n",
              "      width: 32px;\n",
              "    }\n",
              "\n",
              "    .colab-df-convert:hover {\n",
              "      background-color: #E2EBFA;\n",
              "      box-shadow: 0px 1px 2px rgba(60, 64, 67, 0.3), 0px 1px 3px 1px rgba(60, 64, 67, 0.15);\n",
              "      fill: #174EA6;\n",
              "    }\n",
              "\n",
              "    .colab-df-buttons div {\n",
              "      margin-bottom: 4px;\n",
              "    }\n",
              "\n",
              "    [theme=dark] .colab-df-convert {\n",
              "      background-color: #3B4455;\n",
              "      fill: #D2E3FC;\n",
              "    }\n",
              "\n",
              "    [theme=dark] .colab-df-convert:hover {\n",
              "      background-color: #434B5C;\n",
              "      box-shadow: 0px 1px 3px 1px rgba(0, 0, 0, 0.15);\n",
              "      filter: drop-shadow(0px 1px 2px rgba(0, 0, 0, 0.3));\n",
              "      fill: #FFFFFF;\n",
              "    }\n",
              "  </style>\n",
              "\n",
              "    <script>\n",
              "      const buttonEl =\n",
              "        document.querySelector('#df-8476e614-d156-42f3-bf8f-3c230f126211 button.colab-df-convert');\n",
              "      buttonEl.style.display =\n",
              "        google.colab.kernel.accessAllowed ? 'block' : 'none';\n",
              "\n",
              "      async function convertToInteractive(key) {\n",
              "        const element = document.querySelector('#df-8476e614-d156-42f3-bf8f-3c230f126211');\n",
              "        const dataTable =\n",
              "          await google.colab.kernel.invokeFunction('convertToInteractive',\n",
              "                                                    [key], {});\n",
              "        if (!dataTable) return;\n",
              "\n",
              "        const docLinkHtml = 'Like what you see? Visit the ' +\n",
              "          '<a target=\"_blank\" href=https://colab.research.google.com/notebooks/data_table.ipynb>data table notebook</a>'\n",
              "          + ' to learn more about interactive tables.';\n",
              "        element.innerHTML = '';\n",
              "        dataTable['output_type'] = 'display_data';\n",
              "        await google.colab.output.renderOutput(dataTable, element);\n",
              "        const docLink = document.createElement('div');\n",
              "        docLink.innerHTML = docLinkHtml;\n",
              "        element.appendChild(docLink);\n",
              "      }\n",
              "    </script>\n",
              "  </div>\n",
              "\n",
              "\n",
              "<div id=\"df-6a2fb7b5-4a8d-427f-a19b-ef43c1500ae3\">\n",
              "  <button class=\"colab-df-quickchart\" onclick=\"quickchart('df-6a2fb7b5-4a8d-427f-a19b-ef43c1500ae3')\"\n",
              "            title=\"Suggest charts\"\n",
              "            style=\"display:none;\">\n",
              "\n",
              "<svg xmlns=\"http://www.w3.org/2000/svg\" height=\"24px\"viewBox=\"0 0 24 24\"\n",
              "     width=\"24px\">\n",
              "    <g>\n",
              "        <path d=\"M19 3H5c-1.1 0-2 .9-2 2v14c0 1.1.9 2 2 2h14c1.1 0 2-.9 2-2V5c0-1.1-.9-2-2-2zM9 17H7v-7h2v7zm4 0h-2V7h2v10zm4 0h-2v-4h2v4z\"/>\n",
              "    </g>\n",
              "</svg>\n",
              "  </button>\n",
              "\n",
              "<style>\n",
              "  .colab-df-quickchart {\n",
              "      --bg-color: #E8F0FE;\n",
              "      --fill-color: #1967D2;\n",
              "      --hover-bg-color: #E2EBFA;\n",
              "      --hover-fill-color: #174EA6;\n",
              "      --disabled-fill-color: #AAA;\n",
              "      --disabled-bg-color: #DDD;\n",
              "  }\n",
              "\n",
              "  [theme=dark] .colab-df-quickchart {\n",
              "      --bg-color: #3B4455;\n",
              "      --fill-color: #D2E3FC;\n",
              "      --hover-bg-color: #434B5C;\n",
              "      --hover-fill-color: #FFFFFF;\n",
              "      --disabled-bg-color: #3B4455;\n",
              "      --disabled-fill-color: #666;\n",
              "  }\n",
              "\n",
              "  .colab-df-quickchart {\n",
              "    background-color: var(--bg-color);\n",
              "    border: none;\n",
              "    border-radius: 50%;\n",
              "    cursor: pointer;\n",
              "    display: none;\n",
              "    fill: var(--fill-color);\n",
              "    height: 32px;\n",
              "    padding: 0;\n",
              "    width: 32px;\n",
              "  }\n",
              "\n",
              "  .colab-df-quickchart:hover {\n",
              "    background-color: var(--hover-bg-color);\n",
              "    box-shadow: 0 1px 2px rgba(60, 64, 67, 0.3), 0 1px 3px 1px rgba(60, 64, 67, 0.15);\n",
              "    fill: var(--button-hover-fill-color);\n",
              "  }\n",
              "\n",
              "  .colab-df-quickchart-complete:disabled,\n",
              "  .colab-df-quickchart-complete:disabled:hover {\n",
              "    background-color: var(--disabled-bg-color);\n",
              "    fill: var(--disabled-fill-color);\n",
              "    box-shadow: none;\n",
              "  }\n",
              "\n",
              "  .colab-df-spinner {\n",
              "    border: 2px solid var(--fill-color);\n",
              "    border-color: transparent;\n",
              "    border-bottom-color: var(--fill-color);\n",
              "    animation:\n",
              "      spin 1s steps(1) infinite;\n",
              "  }\n",
              "\n",
              "  @keyframes spin {\n",
              "    0% {\n",
              "      border-color: transparent;\n",
              "      border-bottom-color: var(--fill-color);\n",
              "      border-left-color: var(--fill-color);\n",
              "    }\n",
              "    20% {\n",
              "      border-color: transparent;\n",
              "      border-left-color: var(--fill-color);\n",
              "      border-top-color: var(--fill-color);\n",
              "    }\n",
              "    30% {\n",
              "      border-color: transparent;\n",
              "      border-left-color: var(--fill-color);\n",
              "      border-top-color: var(--fill-color);\n",
              "      border-right-color: var(--fill-color);\n",
              "    }\n",
              "    40% {\n",
              "      border-color: transparent;\n",
              "      border-right-color: var(--fill-color);\n",
              "      border-top-color: var(--fill-color);\n",
              "    }\n",
              "    60% {\n",
              "      border-color: transparent;\n",
              "      border-right-color: var(--fill-color);\n",
              "    }\n",
              "    80% {\n",
              "      border-color: transparent;\n",
              "      border-right-color: var(--fill-color);\n",
              "      border-bottom-color: var(--fill-color);\n",
              "    }\n",
              "    90% {\n",
              "      border-color: transparent;\n",
              "      border-bottom-color: var(--fill-color);\n",
              "    }\n",
              "  }\n",
              "</style>\n",
              "\n",
              "  <script>\n",
              "    async function quickchart(key) {\n",
              "      const quickchartButtonEl =\n",
              "        document.querySelector('#' + key + ' button');\n",
              "      quickchartButtonEl.disabled = true;  // To prevent multiple clicks.\n",
              "      quickchartButtonEl.classList.add('colab-df-spinner');\n",
              "      try {\n",
              "        const charts = await google.colab.kernel.invokeFunction(\n",
              "            'suggestCharts', [key], {});\n",
              "      } catch (error) {\n",
              "        console.error('Error during call to suggestCharts:', error);\n",
              "      }\n",
              "      quickchartButtonEl.classList.remove('colab-df-spinner');\n",
              "      quickchartButtonEl.classList.add('colab-df-quickchart-complete');\n",
              "    }\n",
              "    (() => {\n",
              "      let quickchartButtonEl =\n",
              "        document.querySelector('#df-6a2fb7b5-4a8d-427f-a19b-ef43c1500ae3 button');\n",
              "      quickchartButtonEl.style.display =\n",
              "        google.colab.kernel.accessAllowed ? 'block' : 'none';\n",
              "    })();\n",
              "  </script>\n",
              "</div>\n",
              "\n",
              "    </div>\n",
              "  </div>\n"
            ],
            "application/vnd.google.colaboratory.intrinsic+json": {
              "type": "dataframe",
              "summary": "{\n  \"name\": \"fires\",\n  \"rows\": 7,\n  \"fields\": [\n    {\n      \"column\": \"count\",\n      \"properties\": {\n        \"dtype\": \"number\",\n        \"std\": 0.48795003647426655,\n        \"min\": 362.0,\n        \"max\": 363.0,\n        \"num_unique_values\": 2,\n        \"samples\": [\n          362.0,\n          363.0\n        ],\n        \"semantic_type\": \"\",\n        \"description\": \"\"\n      }\n    },\n    {\n      \"column\": \"mean\",\n      \"properties\": {\n        \"dtype\": \"number\",\n        \"std\": 303.5046894488644,\n        \"min\": 0.011019283746556474,\n        \"max\": 870.610497237569,\n        \"num_unique_values\": 7,\n        \"samples\": [\n          322.59035812672175,\n          182.53867403314916\n        ],\n        \"semantic_type\": \"\",\n        \"description\": \"\"\n      }\n    },\n    {\n      \"column\": \"std\",\n      \"properties\": {\n        \"dtype\": \"number\",\n        \"std\": 164.93462714875514,\n        \"min\": 0.14824873514608394,\n        \"max\": 452.8749409420553,\n        \"num_unique_values\": 7,\n        \"samples\": [\n          12.892101767863064,\n          105.80057494206132\n        ],\n        \"semantic_type\": \"\",\n        \"description\": \"\"\n      }\n    },\n    {\n      \"column\": \"min\",\n      \"properties\": {\n        \"dtype\": \"number\",\n        \"std\": 182.32409526523287,\n        \"min\": 0.0,\n        \"max\": 421.0,\n        \"num_unique_values\": 6,\n        \"samples\": [\n          300.3,\n          1.0\n        ],\n        \"semantic_type\": \"\",\n        \"description\": \"\"\n      }\n    },\n    {\n      \"column\": \"25%\",\n      \"properties\": {\n        \"dtype\": \"number\",\n        \"std\": 200.12126472526123,\n        \"min\": 0.0,\n        \"max\": 528.0,\n        \"num_unique_values\": 7,\n        \"samples\": [\n          313.6,\n          91.25\n        ],\n        \"semantic_type\": \"\",\n        \"description\": \"\"\n      }\n    },\n    {\n      \"column\": \"50%\",\n      \"properties\": {\n        \"dtype\": \"number\",\n        \"std\": 265.0696629010498,\n        \"min\": 0.0,\n        \"max\": 755.5,\n        \"num_unique_values\": 7,\n        \"samples\": [\n          321.3,\n          181.5\n        ],\n        \"semantic_type\": \"\",\n        \"description\": \"\"\n      }\n    },\n    {\n      \"column\": \"75%\",\n      \"properties\": {\n        \"dtype\": \"number\",\n        \"std\": 292.0562763264414,\n        \"min\": 0.0,\n        \"max\": 845.25,\n        \"num_unique_values\": 7,\n        \"samples\": [\n          330.9,\n          274.75\n        ],\n        \"semantic_type\": \"\",\n        \"description\": \"\"\n      }\n    },\n    {\n      \"column\": \"max\",\n      \"properties\": {\n        \"dtype\": \"number\",\n        \"std\": 728.305580815923,\n        \"min\": 2.0,\n        \"max\": 2110.0,\n        \"num_unique_values\": 7,\n        \"samples\": [\n          386.4,\n          365.0\n        ],\n        \"semantic_type\": \"\",\n        \"description\": \"\"\n      }\n    }\n  ]\n}"
            }
          },
          "metadata": {},
          "execution_count": 257
        }
      ]
    },
    {
      "cell_type": "code",
      "metadata": {
        "id": "HNJPc8ABMxlE",
        "colab": {
          "base_uri": "https://localhost:8080/",
          "height": 206
        },
        "outputId": "d93cede2-f095-4490-d866-85428ca67535"
      },
      "source": [
        "#given area of land burnt, but we have to predict if there is fire or not so changing values of area to 0 and 1 only\n",
        "#here 0 represet there is not fire and 1 represent fire, changing all values of area which are greater than 0 to 1\n",
        "fires['type'].values[fires['type'].values > 0] = 1\n",
        "\n",
        "#renaming the area attribute to output for clear understanding\n",
        "fires = fires.rename(columns={'type': 'output'})\n",
        "fires.head(5)"
      ],
      "execution_count": 258,
      "outputs": [
        {
          "output_type": "execute_result",
          "data": {
            "text/plain": [
              "   brightness  number22  acq_time  confidence  bright_t31   frp  output\n",
              "0       313.5       1.0     826.0        61.0       297.6   6.9       0\n",
              "1       344.5       2.0    1649.0        26.0       290.0  10.2       0\n",
              "2       316.7       3.0     813.0        62.0       297.3  15.0       0\n",
              "3       312.0       4.0     545.0        70.0       303.1  10.8       0\n",
              "4       308.5       5.0    1718.0        70.0       289.6  10.1       0"
            ],
            "text/html": [
              "\n",
              "  <div id=\"df-d97b2634-bb07-497a-8379-2f895aca54dc\" class=\"colab-df-container\">\n",
              "    <div>\n",
              "<style scoped>\n",
              "    .dataframe tbody tr th:only-of-type {\n",
              "        vertical-align: middle;\n",
              "    }\n",
              "\n",
              "    .dataframe tbody tr th {\n",
              "        vertical-align: top;\n",
              "    }\n",
              "\n",
              "    .dataframe thead th {\n",
              "        text-align: right;\n",
              "    }\n",
              "</style>\n",
              "<table border=\"1\" class=\"dataframe\">\n",
              "  <thead>\n",
              "    <tr style=\"text-align: right;\">\n",
              "      <th></th>\n",
              "      <th>brightness</th>\n",
              "      <th>number22</th>\n",
              "      <th>acq_time</th>\n",
              "      <th>confidence</th>\n",
              "      <th>bright_t31</th>\n",
              "      <th>frp</th>\n",
              "      <th>output</th>\n",
              "    </tr>\n",
              "  </thead>\n",
              "  <tbody>\n",
              "    <tr>\n",
              "      <th>0</th>\n",
              "      <td>313.5</td>\n",
              "      <td>1.0</td>\n",
              "      <td>826.0</td>\n",
              "      <td>61.0</td>\n",
              "      <td>297.6</td>\n",
              "      <td>6.9</td>\n",
              "      <td>0</td>\n",
              "    </tr>\n",
              "    <tr>\n",
              "      <th>1</th>\n",
              "      <td>344.5</td>\n",
              "      <td>2.0</td>\n",
              "      <td>1649.0</td>\n",
              "      <td>26.0</td>\n",
              "      <td>290.0</td>\n",
              "      <td>10.2</td>\n",
              "      <td>0</td>\n",
              "    </tr>\n",
              "    <tr>\n",
              "      <th>2</th>\n",
              "      <td>316.7</td>\n",
              "      <td>3.0</td>\n",
              "      <td>813.0</td>\n",
              "      <td>62.0</td>\n",
              "      <td>297.3</td>\n",
              "      <td>15.0</td>\n",
              "      <td>0</td>\n",
              "    </tr>\n",
              "    <tr>\n",
              "      <th>3</th>\n",
              "      <td>312.0</td>\n",
              "      <td>4.0</td>\n",
              "      <td>545.0</td>\n",
              "      <td>70.0</td>\n",
              "      <td>303.1</td>\n",
              "      <td>10.8</td>\n",
              "      <td>0</td>\n",
              "    </tr>\n",
              "    <tr>\n",
              "      <th>4</th>\n",
              "      <td>308.5</td>\n",
              "      <td>5.0</td>\n",
              "      <td>1718.0</td>\n",
              "      <td>70.0</td>\n",
              "      <td>289.6</td>\n",
              "      <td>10.1</td>\n",
              "      <td>0</td>\n",
              "    </tr>\n",
              "  </tbody>\n",
              "</table>\n",
              "</div>\n",
              "    <div class=\"colab-df-buttons\">\n",
              "\n",
              "  <div class=\"colab-df-container\">\n",
              "    <button class=\"colab-df-convert\" onclick=\"convertToInteractive('df-d97b2634-bb07-497a-8379-2f895aca54dc')\"\n",
              "            title=\"Convert this dataframe to an interactive table.\"\n",
              "            style=\"display:none;\">\n",
              "\n",
              "  <svg xmlns=\"http://www.w3.org/2000/svg\" height=\"24px\" viewBox=\"0 -960 960 960\">\n",
              "    <path d=\"M120-120v-720h720v720H120Zm60-500h600v-160H180v160Zm220 220h160v-160H400v160Zm0 220h160v-160H400v160ZM180-400h160v-160H180v160Zm440 0h160v-160H620v160ZM180-180h160v-160H180v160Zm440 0h160v-160H620v160Z\"/>\n",
              "  </svg>\n",
              "    </button>\n",
              "\n",
              "  <style>\n",
              "    .colab-df-container {\n",
              "      display:flex;\n",
              "      gap: 12px;\n",
              "    }\n",
              "\n",
              "    .colab-df-convert {\n",
              "      background-color: #E8F0FE;\n",
              "      border: none;\n",
              "      border-radius: 50%;\n",
              "      cursor: pointer;\n",
              "      display: none;\n",
              "      fill: #1967D2;\n",
              "      height: 32px;\n",
              "      padding: 0 0 0 0;\n",
              "      width: 32px;\n",
              "    }\n",
              "\n",
              "    .colab-df-convert:hover {\n",
              "      background-color: #E2EBFA;\n",
              "      box-shadow: 0px 1px 2px rgba(60, 64, 67, 0.3), 0px 1px 3px 1px rgba(60, 64, 67, 0.15);\n",
              "      fill: #174EA6;\n",
              "    }\n",
              "\n",
              "    .colab-df-buttons div {\n",
              "      margin-bottom: 4px;\n",
              "    }\n",
              "\n",
              "    [theme=dark] .colab-df-convert {\n",
              "      background-color: #3B4455;\n",
              "      fill: #D2E3FC;\n",
              "    }\n",
              "\n",
              "    [theme=dark] .colab-df-convert:hover {\n",
              "      background-color: #434B5C;\n",
              "      box-shadow: 0px 1px 3px 1px rgba(0, 0, 0, 0.15);\n",
              "      filter: drop-shadow(0px 1px 2px rgba(0, 0, 0, 0.3));\n",
              "      fill: #FFFFFF;\n",
              "    }\n",
              "  </style>\n",
              "\n",
              "    <script>\n",
              "      const buttonEl =\n",
              "        document.querySelector('#df-d97b2634-bb07-497a-8379-2f895aca54dc button.colab-df-convert');\n",
              "      buttonEl.style.display =\n",
              "        google.colab.kernel.accessAllowed ? 'block' : 'none';\n",
              "\n",
              "      async function convertToInteractive(key) {\n",
              "        const element = document.querySelector('#df-d97b2634-bb07-497a-8379-2f895aca54dc');\n",
              "        const dataTable =\n",
              "          await google.colab.kernel.invokeFunction('convertToInteractive',\n",
              "                                                    [key], {});\n",
              "        if (!dataTable) return;\n",
              "\n",
              "        const docLinkHtml = 'Like what you see? Visit the ' +\n",
              "          '<a target=\"_blank\" href=https://colab.research.google.com/notebooks/data_table.ipynb>data table notebook</a>'\n",
              "          + ' to learn more about interactive tables.';\n",
              "        element.innerHTML = '';\n",
              "        dataTable['output_type'] = 'display_data';\n",
              "        await google.colab.output.renderOutput(dataTable, element);\n",
              "        const docLink = document.createElement('div');\n",
              "        docLink.innerHTML = docLinkHtml;\n",
              "        element.appendChild(docLink);\n",
              "      }\n",
              "    </script>\n",
              "  </div>\n",
              "\n",
              "\n",
              "<div id=\"df-a0f52c61-9d19-4043-b05f-8e103e172cbd\">\n",
              "  <button class=\"colab-df-quickchart\" onclick=\"quickchart('df-a0f52c61-9d19-4043-b05f-8e103e172cbd')\"\n",
              "            title=\"Suggest charts\"\n",
              "            style=\"display:none;\">\n",
              "\n",
              "<svg xmlns=\"http://www.w3.org/2000/svg\" height=\"24px\"viewBox=\"0 0 24 24\"\n",
              "     width=\"24px\">\n",
              "    <g>\n",
              "        <path d=\"M19 3H5c-1.1 0-2 .9-2 2v14c0 1.1.9 2 2 2h14c1.1 0 2-.9 2-2V5c0-1.1-.9-2-2-2zM9 17H7v-7h2v7zm4 0h-2V7h2v10zm4 0h-2v-4h2v4z\"/>\n",
              "    </g>\n",
              "</svg>\n",
              "  </button>\n",
              "\n",
              "<style>\n",
              "  .colab-df-quickchart {\n",
              "      --bg-color: #E8F0FE;\n",
              "      --fill-color: #1967D2;\n",
              "      --hover-bg-color: #E2EBFA;\n",
              "      --hover-fill-color: #174EA6;\n",
              "      --disabled-fill-color: #AAA;\n",
              "      --disabled-bg-color: #DDD;\n",
              "  }\n",
              "\n",
              "  [theme=dark] .colab-df-quickchart {\n",
              "      --bg-color: #3B4455;\n",
              "      --fill-color: #D2E3FC;\n",
              "      --hover-bg-color: #434B5C;\n",
              "      --hover-fill-color: #FFFFFF;\n",
              "      --disabled-bg-color: #3B4455;\n",
              "      --disabled-fill-color: #666;\n",
              "  }\n",
              "\n",
              "  .colab-df-quickchart {\n",
              "    background-color: var(--bg-color);\n",
              "    border: none;\n",
              "    border-radius: 50%;\n",
              "    cursor: pointer;\n",
              "    display: none;\n",
              "    fill: var(--fill-color);\n",
              "    height: 32px;\n",
              "    padding: 0;\n",
              "    width: 32px;\n",
              "  }\n",
              "\n",
              "  .colab-df-quickchart:hover {\n",
              "    background-color: var(--hover-bg-color);\n",
              "    box-shadow: 0 1px 2px rgba(60, 64, 67, 0.3), 0 1px 3px 1px rgba(60, 64, 67, 0.15);\n",
              "    fill: var(--button-hover-fill-color);\n",
              "  }\n",
              "\n",
              "  .colab-df-quickchart-complete:disabled,\n",
              "  .colab-df-quickchart-complete:disabled:hover {\n",
              "    background-color: var(--disabled-bg-color);\n",
              "    fill: var(--disabled-fill-color);\n",
              "    box-shadow: none;\n",
              "  }\n",
              "\n",
              "  .colab-df-spinner {\n",
              "    border: 2px solid var(--fill-color);\n",
              "    border-color: transparent;\n",
              "    border-bottom-color: var(--fill-color);\n",
              "    animation:\n",
              "      spin 1s steps(1) infinite;\n",
              "  }\n",
              "\n",
              "  @keyframes spin {\n",
              "    0% {\n",
              "      border-color: transparent;\n",
              "      border-bottom-color: var(--fill-color);\n",
              "      border-left-color: var(--fill-color);\n",
              "    }\n",
              "    20% {\n",
              "      border-color: transparent;\n",
              "      border-left-color: var(--fill-color);\n",
              "      border-top-color: var(--fill-color);\n",
              "    }\n",
              "    30% {\n",
              "      border-color: transparent;\n",
              "      border-left-color: var(--fill-color);\n",
              "      border-top-color: var(--fill-color);\n",
              "      border-right-color: var(--fill-color);\n",
              "    }\n",
              "    40% {\n",
              "      border-color: transparent;\n",
              "      border-right-color: var(--fill-color);\n",
              "      border-top-color: var(--fill-color);\n",
              "    }\n",
              "    60% {\n",
              "      border-color: transparent;\n",
              "      border-right-color: var(--fill-color);\n",
              "    }\n",
              "    80% {\n",
              "      border-color: transparent;\n",
              "      border-right-color: var(--fill-color);\n",
              "      border-bottom-color: var(--fill-color);\n",
              "    }\n",
              "    90% {\n",
              "      border-color: transparent;\n",
              "      border-bottom-color: var(--fill-color);\n",
              "    }\n",
              "  }\n",
              "</style>\n",
              "\n",
              "  <script>\n",
              "    async function quickchart(key) {\n",
              "      const quickchartButtonEl =\n",
              "        document.querySelector('#' + key + ' button');\n",
              "      quickchartButtonEl.disabled = true;  // To prevent multiple clicks.\n",
              "      quickchartButtonEl.classList.add('colab-df-spinner');\n",
              "      try {\n",
              "        const charts = await google.colab.kernel.invokeFunction(\n",
              "            'suggestCharts', [key], {});\n",
              "      } catch (error) {\n",
              "        console.error('Error during call to suggestCharts:', error);\n",
              "      }\n",
              "      quickchartButtonEl.classList.remove('colab-df-spinner');\n",
              "      quickchartButtonEl.classList.add('colab-df-quickchart-complete');\n",
              "    }\n",
              "    (() => {\n",
              "      let quickchartButtonEl =\n",
              "        document.querySelector('#df-a0f52c61-9d19-4043-b05f-8e103e172cbd button');\n",
              "      quickchartButtonEl.style.display =\n",
              "        google.colab.kernel.accessAllowed ? 'block' : 'none';\n",
              "    })();\n",
              "  </script>\n",
              "</div>\n",
              "\n",
              "    </div>\n",
              "  </div>\n"
            ],
            "application/vnd.google.colaboratory.intrinsic+json": {
              "type": "dataframe",
              "variable_name": "fires",
              "summary": "{\n  \"name\": \"fires\",\n  \"rows\": 363,\n  \"fields\": [\n    {\n      \"column\": \"brightness\",\n      \"properties\": {\n        \"dtype\": \"number\",\n        \"std\": 12.892101767863064,\n        \"min\": 300.3,\n        \"max\": 386.4,\n        \"num_unique_values\": 247,\n        \"samples\": [\n          314.1,\n          314.6,\n          320.8\n        ],\n        \"semantic_type\": \"\",\n        \"description\": \"\"\n      }\n    },\n    {\n      \"column\": \"number22\",\n      \"properties\": {\n        \"dtype\": \"number\",\n        \"std\": 105.80057494206132,\n        \"min\": 1.0,\n        \"max\": 365.0,\n        \"num_unique_values\": 362,\n        \"samples\": [\n          164.0,\n          34.0,\n          16.0\n        ],\n        \"semantic_type\": \"\",\n        \"description\": \"\"\n      }\n    },\n    {\n      \"column\": \"acq_time\",\n      \"properties\": {\n        \"dtype\": \"number\",\n        \"std\": 452.8749409420553,\n        \"min\": 421.0,\n        \"max\": 2110.0,\n        \"num_unique_values\": 204,\n        \"samples\": [\n          1700.0,\n          819.0,\n          531.0\n        ],\n        \"semantic_type\": \"\",\n        \"description\": \"\"\n      }\n    },\n    {\n      \"column\": \"confidence\",\n      \"properties\": {\n        \"dtype\": \"number\",\n        \"std\": 20.237417138753823,\n        \"min\": 0.0,\n        \"max\": 98.0,\n        \"num_unique_values\": 73,\n        \"samples\": [\n          80.0,\n          55.0,\n          58.0\n        ],\n        \"semantic_type\": \"\",\n        \"description\": \"\"\n      }\n    },\n    {\n      \"column\": \"bright_t31\",\n      \"properties\": {\n        \"dtype\": \"number\",\n        \"std\": 7.019745782902907,\n        \"min\": 272.8,\n        \"max\": 317.4,\n        \"num_unique_values\": 195,\n        \"samples\": [\n          287.0,\n          291.2,\n          282.2\n        ],\n        \"semantic_type\": \"\",\n        \"description\": \"\"\n      }\n    },\n    {\n      \"column\": \"frp\",\n      \"properties\": {\n        \"dtype\": \"number\",\n        \"std\": 15.462711849879588,\n        \"min\": 3.3,\n        \"max\": 158.0,\n        \"num_unique_values\": 202,\n        \"samples\": [\n          17.3,\n          6.2,\n          41.8\n        ],\n        \"semantic_type\": \"\",\n        \"description\": \"\"\n      }\n    },\n    {\n      \"column\": \"output\",\n      \"properties\": {\n        \"dtype\": \"number\",\n        \"std\": 0,\n        \"min\": 0,\n        \"max\": 1,\n        \"num_unique_values\": 2,\n        \"samples\": [\n          1,\n          0\n        ],\n        \"semantic_type\": \"\",\n        \"description\": \"\"\n      }\n    }\n  ]\n}"
            }
          },
          "metadata": {},
          "execution_count": 258
        }
      ]
    },
    {
      "source": [
        "# @title brightness vs number22\n",
        "\n",
        "from matplotlib import pyplot as plt\n",
        "fires.plot(kind='scatter', x='brightness', y='number22', s=32, alpha=.8)\n",
        "plt.gca().spines[['top', 'right',]].set_visible(False)"
      ],
      "cell_type": "code",
      "execution_count": 259,
      "outputs": [
        {
          "output_type": "display_data",
          "data": {
            "text/plain": [
              "<Figure size 640x480 with 1 Axes>"
            ],
            "image/png": "[encoded data removed]"
          },
          "metadata": {}
        }
      ],
      "metadata": {
        "colab": {
          "base_uri": "https://localhost:8080/",
          "height": 449
        },
        "id": "eMEphfaIvlV4",
        "outputId": "b3f791b1-b9bb-4f85-8451-d9dc82de2e49"
      }
    },
    {
      "cell_type": "code",
      "source": [],
      "metadata": {
        "id": "7RmMiJ7rvxPq"
      },
      "execution_count": 259,
      "outputs": []
    },
    {
      "source": [
        "# @title brightness\n",
        "\n",
        "from matplotlib import pyplot as plt\n",
        "fires['brightness'].plot(kind='hist', bins=20, title='brightness')\n",
        "plt.gca().spines[['top', 'right',]].set_visible(False)"
      ],
      "cell_type": "code",
      "execution_count": 260,
      "outputs": [
        {
          "output_type": "display_data",
          "data": {
            "text/plain": [
              "<Figure size 640x480 with 1 Axes>"
            ],
            "image/png": "[encoded data removed]"
          },
          "metadata": {}
        }
      ],
      "metadata": {
        "cellView": "form",
        "colab": {
          "base_uri": "https://localhost:8080/",
          "height": 452
        },
        "id": "rCZD6Zz7ve4h",
        "outputId": "aad14e7c-7d3e-4247-8028-ebe07f0e1dd1"
      }
    },
    {
      "cell_type": "code",
      "metadata": {
        "id": "UO3_nUi-M9TL",
        "colab": {
          "base_uri": "https://localhost:8080/",
          "height": 269
        },
        "outputId": "7b5baa89-7325-4482-ea35-b791321361af"
      },
      "source": [
        "#Compute pairwise correlation of columns\n",
        "fires.corr()\n"
      ],
      "execution_count": 261,
      "outputs": [
        {
          "output_type": "execute_result",
          "data": {
            "text/plain": [
              "            brightness  number22  acq_time  confidence  bright_t31       frp  \\\n",
              "brightness    1.000000 -0.008818  0.141465   -0.020934   -0.040939  0.043530   \n",
              "number22     -0.008818  1.000000 -0.071771   -0.122989   -0.141450 -0.154428   \n",
              "acq_time      0.141465 -0.071771  1.000000    0.155767   -0.366920 -0.190422   \n",
              "confidence   -0.020934 -0.122989  0.155767    1.000000    0.287941  0.047150   \n",
              "bright_t31   -0.040939 -0.141450 -0.366920    0.287941    1.000000 -0.042485   \n",
              "frp           0.043530 -0.154428 -0.190422    0.047150   -0.042485  1.000000   \n",
              "output        0.004681  0.034188 -0.047896    0.007825   -0.070854 -0.025507   \n",
              "\n",
              "              output  \n",
              "brightness  0.004681  \n",
              "number22    0.034188  \n",
              "acq_time   -0.047896  \n",
              "confidence  0.007825  \n",
              "bright_t31 -0.070854  \n",
              "frp        -0.025507  \n",
              "output      1.000000  "
            ],
            "text/html": [
              "\n",
              "  <div id=\"df-92e36193-8df2-4f2c-96b1-7f710de932bb\" class=\"colab-df-container\">\n",
              "    <div>\n",
              "<style scoped>\n",
              "    .dataframe tbody tr th:only-of-type {\n",
              "        vertical-align: middle;\n",
              "    }\n",
              "\n",
              "    .dataframe tbody tr th {\n",
              "        vertical-align: top;\n",
              "    }\n",
              "\n",
              "    .dataframe thead th {\n",
              "        text-align: right;\n",
              "    }\n",
              "</style>\n",
              "<table border=\"1\" class=\"dataframe\">\n",
              "  <thead>\n",
              "    <tr style=\"text-align: right;\">\n",
              "      <th></th>\n",
              "      <th>brightness</th>\n",
              "      <th>number22</th>\n",
              "      <th>acq_time</th>\n",
              "      <th>confidence</th>\n",
              "      <th>bright_t31</th>\n",
              "      <th>frp</th>\n",
              "      <th>output</th>\n",
              "    </tr>\n",
              "  </thead>\n",
              "  <tbody>\n",
              "    <tr>\n",
              "      <th>brightness</th>\n",
              "      <td>1.000000</td>\n",
              "      <td>-0.008818</td>\n",
              "      <td>0.141465</td>\n",
              "      <td>-0.020934</td>\n",
              "      <td>-0.040939</td>\n",
              "      <td>0.043530</td>\n",
              "      <td>0.004681</td>\n",
              "    </tr>\n",
              "    <tr>\n",
              "      <th>number22</th>\n",
              "      <td>-0.008818</td>\n",
              "      <td>1.000000</td>\n",
              "      <td>-0.071771</td>\n",
              "      <td>-0.122989</td>\n",
              "      <td>-0.141450</td>\n",
              "      <td>-0.154428</td>\n",
              "      <td>0.034188</td>\n",
              "    </tr>\n",
              "    <tr>\n",
              "      <th>acq_time</th>\n",
              "      <td>0.141465</td>\n",
              "      <td>-0.071771</td>\n",
              "      <td>1.000000</td>\n",
              "      <td>0.155767</td>\n",
              "      <td>-0.366920</td>\n",
              "      <td>-0.190422</td>\n",
              "      <td>-0.047896</td>\n",
              "    </tr>\n",
              "    <tr>\n",
              "      <th>confidence</th>\n",
              "      <td>-0.020934</td>\n",
              "      <td>-0.122989</td>\n",
              "      <td>0.155767</td>\n",
              "      <td>1.000000</td>\n",
              "      <td>0.287941</td>\n",
              "      <td>0.047150</td>\n",
              "      <td>0.007825</td>\n",
              "    </tr>\n",
              "    <tr>\n",
              "      <th>bright_t31</th>\n",
              "      <td>-0.040939</td>\n",
              "      <td>-0.141450</td>\n",
              "      <td>-0.366920</td>\n",
              "      <td>0.287941</td>\n",
              "      <td>1.000000</td>\n",
              "      <td>-0.042485</td>\n",
              "      <td>-0.070854</td>\n",
              "    </tr>\n",
              "    <tr>\n",
              "      <th>frp</th>\n",
              "      <td>0.043530</td>\n",
              "      <td>-0.154428</td>\n",
              "      <td>-0.190422</td>\n",
              "      <td>0.047150</td>\n",
              "      <td>-0.042485</td>\n",
              "      <td>1.000000</td>\n",
              "      <td>-0.025507</td>\n",
              "    </tr>\n",
              "    <tr>\n",
              "      <th>output</th>\n",
              "      <td>0.004681</td>\n",
              "      <td>0.034188</td>\n",
              "      <td>-0.047896</td>\n",
              "      <td>0.007825</td>\n",
              "      <td>-0.070854</td>\n",
              "      <td>-0.025507</td>\n",
              "      <td>1.000000</td>\n",
              "    </tr>\n",
              "  </tbody>\n",
              "</table>\n",
              "</div>\n",
              "    <div class=\"colab-df-buttons\">\n",
              "\n",
              "  <div class=\"colab-df-container\">\n",
              "    <button class=\"colab-df-convert\" onclick=\"convertToInteractive('df-92e36193-8df2-4f2c-96b1-7f710de932bb')\"\n",
              "            title=\"Convert this dataframe to an interactive table.\"\n",
              "            style=\"display:none;\">\n",
              "\n",
              "  <svg xmlns=\"http://www.w3.org/2000/svg\" height=\"24px\" viewBox=\"0 -960 960 960\">\n",
              "    <path d=\"M120-120v-720h720v720H120Zm60-500h600v-160H180v160Zm220 220h160v-160H400v160Zm0 220h160v-160H400v160ZM180-400h160v-160H180v160Zm440 0h160v-160H620v160ZM180-180h160v-160H180v160Zm440 0h160v-160H620v160Z\"/>\n",
              "  </svg>\n",
              "    </button>\n",
              "\n",
              "  <style>\n",
              "    .colab-df-container {\n",
              "      display:flex;\n",
              "      gap: 12px;\n",
              "    }\n",
              "\n",
              "    .colab-df-convert {\n",
              "      background-color: #E8F0FE;\n",
              "      border: none;\n",
              "      border-radius: 50%;\n",
              "      cursor: pointer;\n",
              "      display: none;\n",
              "      fill: #1967D2;\n",
              "      height: 32px;\n",
              "      padding: 0 0 0 0;\n",
              "      width: 32px;\n",
              "    }\n",
              "\n",
              "    .colab-df-convert:hover {\n",
              "      background-color: #E2EBFA;\n",
              "      box-shadow: 0px 1px 2px rgba(60, 64, 67, 0.3), 0px 1px 3px 1px rgba(60, 64, 67, 0.15);\n",
              "      fill: #174EA6;\n",
              "    }\n",
              "\n",
              "    .colab-df-buttons div {\n",
              "      margin-bottom: 4px;\n",
              "    }\n",
              "\n",
              "    [theme=dark] .colab-df-convert {\n",
              "      background-color: #3B4455;\n",
              "      fill: #D2E3FC;\n",
              "    }\n",
              "\n",
              "    [theme=dark] .colab-df-convert:hover {\n",
              "      background-color: #434B5C;\n",
              "      box-shadow: 0px 1px 3px 1px rgba(0, 0, 0, 0.15);\n",
              "      filter: drop-shadow(0px 1px 2px rgba(0, 0, 0, 0.3));\n",
              "      fill: #FFFFFF;\n",
              "    }\n",
              "  </style>\n",
              "\n",
              "    <script>\n",
              "      const buttonEl =\n",
              "        document.querySelector('#df-92e36193-8df2-4f2c-96b1-7f710de932bb button.colab-df-convert');\n",
              "      buttonEl.style.display =\n",
              "        google.colab.kernel.accessAllowed ? 'block' : 'none';\n",
              "\n",
              "      async function convertToInteractive(key) {\n",
              "        const element = document.querySelector('#df-92e36193-8df2-4f2c-96b1-7f710de932bb');\n",
              "        const dataTable =\n",
              "          await google.colab.kernel.invokeFunction('convertToInteractive',\n",
              "                                                    [key], {});\n",
              "        if (!dataTable) return;\n",
              "\n",
              "        const docLinkHtml = 'Like what you see? Visit the ' +\n",
              "          '<a target=\"_blank\" href=https://colab.research.google.com/notebooks/data_table.ipynb>data table notebook</a>'\n",
              "          + ' to learn more about interactive tables.';\n",
              "        element.innerHTML = '';\n",
              "        dataTable['output_type'] = 'display_data';\n",
              "        await google.colab.output.renderOutput(dataTable, element);\n",
              "        const docLink = document.createElement('div');\n",
              "        docLink.innerHTML = docLinkHtml;\n",
              "        element.appendChild(docLink);\n",
              "      }\n",
              "    </script>\n",
              "  </div>\n",
              "\n",
              "\n",
              "<div id=\"df-6025dea8-2745-46e8-89aa-49a466927305\">\n",
              "  <button class=\"colab-df-quickchart\" onclick=\"quickchart('df-6025dea8-2745-46e8-89aa-49a466927305')\"\n",
              "            title=\"Suggest charts\"\n",
              "            style=\"display:none;\">\n",
              "\n",
              "<svg xmlns=\"http://www.w3.org/2000/svg\" height=\"24px\"viewBox=\"0 0 24 24\"\n",
              "     width=\"24px\">\n",
              "    <g>\n",
              "        <path d=\"M19 3H5c-1.1 0-2 .9-2 2v14c0 1.1.9 2 2 2h14c1.1 0 2-.9 2-2V5c0-1.1-.9-2-2-2zM9 17H7v-7h2v7zm4 0h-2V7h2v10zm4 0h-2v-4h2v4z\"/>\n",
              "    </g>\n",
              "</svg>\n",
              "  </button>\n",
              "\n",
              "<style>\n",
              "  .colab-df-quickchart {\n",
              "      --bg-color: #E8F0FE;\n",
              "      --fill-color: #1967D2;\n",
              "      --hover-bg-color: #E2EBFA;\n",
              "      --hover-fill-color: #174EA6;\n",
              "      --disabled-fill-color: #AAA;\n",
              "      --disabled-bg-color: #DDD;\n",
              "  }\n",
              "\n",
              "  [theme=dark] .colab-df-quickchart {\n",
              "      --bg-color: #3B4455;\n",
              "      --fill-color: #D2E3FC;\n",
              "      --hover-bg-color: #434B5C;\n",
              "      --hover-fill-color: #FFFFFF;\n",
              "      --disabled-bg-color: #3B4455;\n",
              "      --disabled-fill-color: #666;\n",
              "  }\n",
              "\n",
              "  .colab-df-quickchart {\n",
              "    background-color: var(--bg-color);\n",
              "    border: none;\n",
              "    border-radius: 50%;\n",
              "    cursor: pointer;\n",
              "    display: none;\n",
              "    fill: var(--fill-color);\n",
              "    height: 32px;\n",
              "    padding: 0;\n",
              "    width: 32px;\n",
              "  }\n",
              "\n",
              "  .colab-df-quickchart:hover {\n",
              "    background-color: var(--hover-bg-color);\n",
              "    box-shadow: 0 1px 2px rgba(60, 64, 67, 0.3), 0 1px 3px 1px rgba(60, 64, 67, 0.15);\n",
              "    fill: var(--button-hover-fill-color);\n",
              "  }\n",
              "\n",
              "  .colab-df-quickchart-complete:disabled,\n",
              "  .colab-df-quickchart-complete:disabled:hover {\n",
              "    background-color: var(--disabled-bg-color);\n",
              "    fill: var(--disabled-fill-color);\n",
              "    box-shadow: none;\n",
              "  }\n",
              "\n",
              "  .colab-df-spinner {\n",
              "    border: 2px solid var(--fill-color);\n",
              "    border-color: transparent;\n",
              "    border-bottom-color: var(--fill-color);\n",
              "    animation:\n",
              "      spin 1s steps(1) infinite;\n",
              "  }\n",
              "\n",
              "  @keyframes spin {\n",
              "    0% {\n",
              "      border-color: transparent;\n",
              "      border-bottom-color: var(--fill-color);\n",
              "      border-left-color: var(--fill-color);\n",
              "    }\n",
              "    20% {\n",
              "      border-color: transparent;\n",
              "      border-left-color: var(--fill-color);\n",
              "      border-top-color: var(--fill-color);\n",
              "    }\n",
              "    30% {\n",
              "      border-color: transparent;\n",
              "      border-left-color: var(--fill-color);\n",
              "      border-top-color: var(--fill-color);\n",
              "      border-right-color: var(--fill-color);\n",
              "    }\n",
              "    40% {\n",
              "      border-color: transparent;\n",
              "      border-right-color: var(--fill-color);\n",
              "      border-top-color: var(--fill-color);\n",
              "    }\n",
              "    60% {\n",
              "      border-color: transparent;\n",
              "      border-right-color: var(--fill-color);\n",
              "    }\n",
              "    80% {\n",
              "      border-color: transparent;\n",
              "      border-right-color: var(--fill-color);\n",
              "      border-bottom-color: var(--fill-color);\n",
              "    }\n",
              "    90% {\n",
              "      border-color: transparent;\n",
              "      border-bottom-color: var(--fill-color);\n",
              "    }\n",
              "  }\n",
              "</style>\n",
              "\n",
              "  <script>\n",
              "    async function quickchart(key) {\n",
              "      const quickchartButtonEl =\n",
              "        document.querySelector('#' + key + ' button');\n",
              "      quickchartButtonEl.disabled = true;  // To prevent multiple clicks.\n",
              "      quickchartButtonEl.classList.add('colab-df-spinner');\n",
              "      try {\n",
              "        const charts = await google.colab.kernel.invokeFunction(\n",
              "            'suggestCharts', [key], {});\n",
              "      } catch (error) {\n",
              "        console.error('Error during call to suggestCharts:', error);\n",
              "      }\n",
              "      quickchartButtonEl.classList.remove('colab-df-spinner');\n",
              "      quickchartButtonEl.classList.add('colab-df-quickchart-complete');\n",
              "    }\n",
              "    (() => {\n",
              "      let quickchartButtonEl =\n",
              "        document.querySelector('#df-6025dea8-2745-46e8-89aa-49a466927305 button');\n",
              "      quickchartButtonEl.style.display =\n",
              "        google.colab.kernel.accessAllowed ? 'block' : 'none';\n",
              "    })();\n",
              "  </script>\n",
              "</div>\n",
              "\n",
              "    </div>\n",
              "  </div>\n"
            ],
            "application/vnd.google.colaboratory.intrinsic+json": {
              "type": "dataframe",
              "summary": "{\n  \"name\": \"fires\",\n  \"rows\": 7,\n  \"fields\": [\n    {\n      \"column\": \"brightness\",\n      \"properties\": {\n        \"dtype\": \"number\",\n        \"std\": 0.3753322552590002,\n        \"min\": -0.04093935811566155,\n        \"max\": 1.0,\n        \"num_unique_values\": 7,\n        \"samples\": [\n          1.0,\n          -0.008817638407124065,\n          0.043529735536509045\n        ],\n        \"semantic_type\": \"\",\n        \"description\": \"\"\n      }\n    },\n    {\n      \"column\": \"number22\",\n      \"properties\": {\n        \"dtype\": \"number\",\n        \"std\": 0.4132255158215889,\n        \"min\": -0.1544281495973779,\n        \"max\": 1.0,\n        \"num_unique_values\": 7,\n        \"samples\": [\n          -0.008817638407124065,\n          1.0,\n          -0.1544281495973779\n        ],\n        \"semantic_type\": \"\",\n        \"description\": \"\"\n      }\n    },\n    {\n      \"column\": \"acq_time\",\n      \"properties\": {\n        \"dtype\": \"number\",\n        \"std\": 0.44114580460711433,\n        \"min\": -0.36692006101751706,\n        \"max\": 1.0,\n        \"num_unique_values\": 7,\n        \"samples\": [\n          0.1414651648133514,\n          -0.07177101404826863,\n          -0.19042186547926593\n        ],\n        \"semantic_type\": \"\",\n        \"description\": \"\"\n      }\n    },\n    {\n      \"column\": \"confidence\",\n      \"properties\": {\n        \"dtype\": \"number\",\n        \"std\": 0.3792154586270503,\n        \"min\": -0.12298924453556508,\n        \"max\": 1.0,\n        \"num_unique_values\": 7,\n        \"samples\": [\n          -0.020933836201324448,\n          -0.12298924453556508,\n          0.04714962700769299\n        ],\n        \"semantic_type\": \"\",\n        \"description\": \"\"\n      }\n    },\n    {\n      \"column\": \"bright_t31\",\n      \"properties\": {\n        \"dtype\": \"number\",\n        \"std\": 0.445382616913597,\n        \"min\": -0.36692006101751706,\n        \"max\": 1.0,\n        \"num_unique_values\": 7,\n        \"samples\": [\n          -0.04093935811566155,\n          -0.14145025870419042,\n          -0.042485332241684486\n        ],\n        \"semantic_type\": \"\",\n        \"description\": \"\"\n      }\n    },\n    {\n      \"column\": \"frp\",\n      \"properties\": {\n        \"dtype\": \"number\",\n        \"std\": 0.4084614518911388,\n        \"min\": -0.19042186547926593,\n        \"max\": 1.0,\n        \"num_unique_values\": 7,\n        \"samples\": [\n          0.043529735536509045,\n          -0.1544281495973779,\n          1.0\n        ],\n        \"semantic_type\": \"\",\n        \"description\": \"\"\n      }\n    },\n    {\n      \"column\": \"output\",\n      \"properties\": {\n        \"dtype\": \"number\",\n        \"std\": 0.3857623022642121,\n        \"min\": -0.0708542317434369,\n        \"max\": 1.0,\n        \"num_unique_values\": 7,\n        \"samples\": [\n          0.004680903199598281,\n          0.034187842682184284,\n          -0.02550718109556602\n        ],\n        \"semantic_type\": \"\",\n        \"description\": \"\"\n      }\n    }\n  ]\n}"
            }
          },
          "metadata": {},
          "execution_count": 261
        }
      ]
    },
    {
      "cell_type": "code",
      "metadata": {
        "id": "RJwKfaKgNB6U",
        "colab": {
          "base_uri": "https://localhost:8080/"
        },
        "outputId": "b3b928a4-3d0e-47d7-9834-b47fae02cd7d"
      },
      "source": [
        "#sorting to see which attribute is correlated more to attribut \"output\"\n",
        "fires.corr()['output'].sort_values()\n",
        "#we can see that attribute \"month\" is the mostly correlated  to attribute \"output\""
      ],
      "execution_count": 262,
      "outputs": [
        {
          "output_type": "execute_result",
          "data": {
            "text/plain": [
              "bright_t31   -0.070854\n",
              "acq_time     -0.047896\n",
              "frp          -0.025507\n",
              "brightness    0.004681\n",
              "confidence    0.007825\n",
              "number22      0.034188\n",
              "output        1.000000\n",
              "Name: output, dtype: float64"
            ]
          },
          "metadata": {},
          "execution_count": 262
        }
      ]
    },
    {
      "cell_type": "code",
      "metadata": {
        "id": "_AGN2xZUNMsU",
        "colab": {
          "base_uri": "https://localhost:8080/",
          "height": 206
        },
        "outputId": "622edd9e-94a2-4eec-fe01-f584cc55bf5d"
      },
      "source": [
        "from sklearn.preprocessing import StandardScaler\n",
        "#standardization of data\n",
        "#removing the mean and scaling it to unit variance\n",
        "#score=(x-mean)/std\n",
        "scaler = StandardScaler()\n",
        "#fitting forest fire dataset to scaler by removing the attribute output\n",
        "scaler.fit(fires.drop('output',axis=1))\n",
        "\n",
        "scaled_features = scaler.transform(fires.drop('output',axis=1))\n",
        "df_feat = pd.DataFrame(scaled_features,columns=fires.columns[:-1])\n",
        "df_feat.head()"
      ],
      "execution_count": 263,
      "outputs": [
        {
          "output_type": "execute_result",
          "data": {
            "text/plain": [
              "   brightness  number22  acq_time  confidence  bright_t31       frp\n",
              "0   -0.706084 -1.718232 -0.098641    0.352387    0.190610 -0.607736\n",
              "1    1.701808 -1.708767  1.721153   -1.379476   -0.893548 -0.394024\n",
              "2   -0.457527 -1.699302 -0.127387    0.401869    0.147815 -0.083170\n",
              "3   -0.822595 -1.689838 -0.719981    0.797723    0.975199 -0.355167\n",
              "4   -1.094454 -1.680373  1.873723    0.797723   -0.950609 -0.400500"
            ],
            "text/html": [
              "\n",
              "  <div id=\"df-271592cc-7838-4953-a095-f4a943eea0ec\" class=\"colab-df-container\">\n",
              "    <div>\n",
              "<style scoped>\n",
              "    .dataframe tbody tr th:only-of-type {\n",
              "        vertical-align: middle;\n",
              "    }\n",
              "\n",
              "    .dataframe tbody tr th {\n",
              "        vertical-align: top;\n",
              "    }\n",
              "\n",
              "    .dataframe thead th {\n",
              "        text-align: right;\n",
              "    }\n",
              "</style>\n",
              "<table border=\"1\" class=\"dataframe\">\n",
              "  <thead>\n",
              "    <tr style=\"text-align: right;\">\n",
              "      <th></th>\n",
              "      <th>brightness</th>\n",
              "      <th>number22</th>\n",
              "      <th>acq_time</th>\n",
              "      <th>confidence</th>\n",
              "      <th>bright_t31</th>\n",
              "      <th>frp</th>\n",
              "    </tr>\n",
              "  </thead>\n",
              "  <tbody>\n",
              "    <tr>\n",
              "      <th>0</th>\n",
              "      <td>-0.706084</td>\n",
              "      <td>-1.718232</td>\n",
              "      <td>-0.098641</td>\n",
              "      <td>0.352387</td>\n",
              "      <td>0.190610</td>\n",
              "      <td>-0.607736</td>\n",
              "    </tr>\n",
              "    <tr>\n",
              "      <th>1</th>\n",
              "      <td>1.701808</td>\n",
              "      <td>-1.708767</td>\n",
              "      <td>1.721153</td>\n",
              "      <td>-1.379476</td>\n",
              "      <td>-0.893548</td>\n",
              "      <td>-0.394024</td>\n",
              "    </tr>\n",
              "    <tr>\n",
              "      <th>2</th>\n",
              "      <td>-0.457527</td>\n",
              "      <td>-1.699302</td>\n",
              "      <td>-0.127387</td>\n",
              "      <td>0.401869</td>\n",
              "      <td>0.147815</td>\n",
              "      <td>-0.083170</td>\n",
              "    </tr>\n",
              "    <tr>\n",
              "      <th>3</th>\n",
              "      <td>-0.822595</td>\n",
              "      <td>-1.689838</td>\n",
              "      <td>-0.719981</td>\n",
              "      <td>0.797723</td>\n",
              "      <td>0.975199</td>\n",
              "      <td>-0.355167</td>\n",
              "    </tr>\n",
              "    <tr>\n",
              "      <th>4</th>\n",
              "      <td>-1.094454</td>\n",
              "      <td>-1.680373</td>\n",
              "      <td>1.873723</td>\n",
              "      <td>0.797723</td>\n",
              "      <td>-0.950609</td>\n",
              "      <td>-0.400500</td>\n",
              "    </tr>\n",
              "  </tbody>\n",
              "</table>\n",
              "</div>\n",
              "    <div class=\"colab-df-buttons\">\n",
              "\n",
              "  <div class=\"colab-df-container\">\n",
              "    <button class=\"colab-df-convert\" onclick=\"convertToInteractive('df-271592cc-7838-4953-a095-f4a943eea0ec')\"\n",
              "            title=\"Convert this dataframe to an interactive table.\"\n",
              "            style=\"display:none;\">\n",
              "\n",
              "  <svg xmlns=\"http://www.w3.org/2000/svg\" height=\"24px\" viewBox=\"0 -960 960 960\">\n",
              "    <path d=\"M120-120v-720h720v720H120Zm60-500h600v-160H180v160Zm220 220h160v-160H400v160Zm0 220h160v-160H400v160ZM180-400h160v-160H180v160Zm440 0h160v-160H620v160ZM180-180h160v-160H180v160Zm440 0h160v-160H620v160Z\"/>\n",
              "  </svg>\n",
              "    </button>\n",
              "\n",
              "  <style>\n",
              "    .colab-df-container {\n",
              "      display:flex;\n",
              "      gap: 12px;\n",
              "    }\n",
              "\n",
              "    .colab-df-convert {\n",
              "      background-color: #E8F0FE;\n",
              "      border: none;\n",
              "      border-radius: 50%;\n",
              "      cursor: pointer;\n",
              "      display: none;\n",
              "      fill: #1967D2;\n",
              "      height: 32px;\n",
              "      padding: 0 0 0 0;\n",
              "      width: 32px;\n",
              "    }\n",
              "\n",
              "    .colab-df-convert:hover {\n",
              "      background-color: #E2EBFA;\n",
              "      box-shadow: 0px 1px 2px rgba(60, 64, 67, 0.3), 0px 1px 3px 1px rgba(60, 64, 67, 0.15);\n",
              "      fill: #174EA6;\n",
              "    }\n",
              "\n",
              "    .colab-df-buttons div {\n",
              "      margin-bottom: 4px;\n",
              "    }\n",
              "\n",
              "    [theme=dark] .colab-df-convert {\n",
              "      background-color: #3B4455;\n",
              "      fill: #D2E3FC;\n",
              "    }\n",
              "\n",
              "    [theme=dark] .colab-df-convert:hover {\n",
              "      background-color: #434B5C;\n",
              "      box-shadow: 0px 1px 3px 1px rgba(0, 0, 0, 0.15);\n",
              "      filter: drop-shadow(0px 1px 2px rgba(0, 0, 0, 0.3));\n",
              "      fill: #FFFFFF;\n",
              "    }\n",
              "  </style>\n",
              "\n",
              "    <script>\n",
              "      const buttonEl =\n",
              "        document.querySelector('#df-271592cc-7838-4953-a095-f4a943eea0ec button.colab-df-convert');\n",
              "      buttonEl.style.display =\n",
              "        google.colab.kernel.accessAllowed ? 'block' : 'none';\n",
              "\n",
              "      async function convertToInteractive(key) {\n",
              "        const element = document.querySelector('#df-271592cc-7838-4953-a095-f4a943eea0ec');\n",
              "        const dataTable =\n",
              "          await google.colab.kernel.invokeFunction('convertToInteractive',\n",
              "                                                    [key], {});\n",
              "        if (!dataTable) return;\n",
              "\n",
              "        const docLinkHtml = 'Like what you see? Visit the ' +\n",
              "          '<a target=\"_blank\" href=https://colab.research.google.com/notebooks/data_table.ipynb>data table notebook</a>'\n",
              "          + ' to learn more about interactive tables.';\n",
              "        element.innerHTML = '';\n",
              "        dataTable['output_type'] = 'display_data';\n",
              "        await google.colab.output.renderOutput(dataTable, element);\n",
              "        const docLink = document.createElement('div');\n",
              "        docLink.innerHTML = docLinkHtml;\n",
              "        element.appendChild(docLink);\n",
              "      }\n",
              "    </script>\n",
              "  </div>\n",
              "\n",
              "\n",
              "<div id=\"df-35f230cc-5496-4230-9173-383934556b72\">\n",
              "  <button class=\"colab-df-quickchart\" onclick=\"quickchart('df-35f230cc-5496-4230-9173-383934556b72')\"\n",
              "            title=\"Suggest charts\"\n",
              "            style=\"display:none;\">\n",
              "\n",
              "<svg xmlns=\"http://www.w3.org/2000/svg\" height=\"24px\"viewBox=\"0 0 24 24\"\n",
              "     width=\"24px\">\n",
              "    <g>\n",
              "        <path d=\"M19 3H5c-1.1 0-2 .9-2 2v14c0 1.1.9 2 2 2h14c1.1 0 2-.9 2-2V5c0-1.1-.9-2-2-2zM9 17H7v-7h2v7zm4 0h-2V7h2v10zm4 0h-2v-4h2v4z\"/>\n",
              "    </g>\n",
              "</svg>\n",
              "  </button>\n",
              "\n",
              "<style>\n",
              "  .colab-df-quickchart {\n",
              "      --bg-color: #E8F0FE;\n",
              "      --fill-color: #1967D2;\n",
              "      --hover-bg-color: #E2EBFA;\n",
              "      --hover-fill-color: #174EA6;\n",
              "      --disabled-fill-color: #AAA;\n",
              "      --disabled-bg-color: #DDD;\n",
              "  }\n",
              "\n",
              "  [theme=dark] .colab-df-quickchart {\n",
              "      --bg-color: #3B4455;\n",
              "      --fill-color: #D2E3FC;\n",
              "      --hover-bg-color: #434B5C;\n",
              "      --hover-fill-color: #FFFFFF;\n",
              "      --disabled-bg-color: #3B4455;\n",
              "      --disabled-fill-color: #666;\n",
              "  }\n",
              "\n",
              "  .colab-df-quickchart {\n",
              "    background-color: var(--bg-color);\n",
              "    border: none;\n",
              "    border-radius: 50%;\n",
              "    cursor: pointer;\n",
              "    display: none;\n",
              "    fill: var(--fill-color);\n",
              "    height: 32px;\n",
              "    padding: 0;\n",
              "    width: 32px;\n",
              "  }\n",
              "\n",
              "  .colab-df-quickchart:hover {\n",
              "    background-color: var(--hover-bg-color);\n",
              "    box-shadow: 0 1px 2px rgba(60, 64, 67, 0.3), 0 1px 3px 1px rgba(60, 64, 67, 0.15);\n",
              "    fill: var(--button-hover-fill-color);\n",
              "  }\n",
              "\n",
              "  .colab-df-quickchart-complete:disabled,\n",
              "  .colab-df-quickchart-complete:disabled:hover {\n",
              "    background-color: var(--disabled-bg-color);\n",
              "    fill: var(--disabled-fill-color);\n",
              "    box-shadow: none;\n",
              "  }\n",
              "\n",
              "  .colab-df-spinner {\n",
              "    border: 2px solid var(--fill-color);\n",
              "    border-color: transparent;\n",
              "    border-bottom-color: var(--fill-color);\n",
              "    animation:\n",
              "      spin 1s steps(1) infinite;\n",
              "  }\n",
              "\n",
              "  @keyframes spin {\n",
              "    0% {\n",
              "      border-color: transparent;\n",
              "      border-bottom-color: var(--fill-color);\n",
              "      border-left-color: var(--fill-color);\n",
              "    }\n",
              "    20% {\n",
              "      border-color: transparent;\n",
              "      border-left-color: var(--fill-color);\n",
              "      border-top-color: var(--fill-color);\n",
              "    }\n",
              "    30% {\n",
              "      border-color: transparent;\n",
              "      border-left-color: var(--fill-color);\n",
              "      border-top-color: var(--fill-color);\n",
              "      border-right-color: var(--fill-color);\n",
              "    }\n",
              "    40% {\n",
              "      border-color: transparent;\n",
              "      border-right-color: var(--fill-color);\n",
              "      border-top-color: var(--fill-color);\n",
              "    }\n",
              "    60% {\n",
              "      border-color: transparent;\n",
              "      border-right-color: var(--fill-color);\n",
              "    }\n",
              "    80% {\n",
              "      border-color: transparent;\n",
              "      border-right-color: var(--fill-color);\n",
              "      border-bottom-color: var(--fill-color);\n",
              "    }\n",
              "    90% {\n",
              "      border-color: transparent;\n",
              "      border-bottom-color: var(--fill-color);\n",
              "    }\n",
              "  }\n",
              "</style>\n",
              "\n",
              "  <script>\n",
              "    async function quickchart(key) {\n",
              "      const quickchartButtonEl =\n",
              "        document.querySelector('#' + key + ' button');\n",
              "      quickchartButtonEl.disabled = true;  // To prevent multiple clicks.\n",
              "      quickchartButtonEl.classList.add('colab-df-spinner');\n",
              "      try {\n",
              "        const charts = await google.colab.kernel.invokeFunction(\n",
              "            'suggestCharts', [key], {});\n",
              "      } catch (error) {\n",
              "        console.error('Error during call to suggestCharts:', error);\n",
              "      }\n",
              "      quickchartButtonEl.classList.remove('colab-df-spinner');\n",
              "      quickchartButtonEl.classList.add('colab-df-quickchart-complete');\n",
              "    }\n",
              "    (() => {\n",
              "      let quickchartButtonEl =\n",
              "        document.querySelector('#df-35f230cc-5496-4230-9173-383934556b72 button');\n",
              "      quickchartButtonEl.style.display =\n",
              "        google.colab.kernel.accessAllowed ? 'block' : 'none';\n",
              "    })();\n",
              "  </script>\n",
              "</div>\n",
              "\n",
              "    </div>\n",
              "  </div>\n"
            ],
            "application/vnd.google.colaboratory.intrinsic+json": {
              "type": "dataframe",
              "variable_name": "df_feat",
              "summary": "{\n  \"name\": \"df_feat\",\n  \"rows\": 363,\n  \"fields\": [\n    {\n      \"column\": \"brightness\",\n      \"properties\": {\n        \"dtype\": \"number\",\n        \"std\": 1.0013802629067674,\n        \"min\": -1.7313798078187574,\n        \"max\": 4.956345916717147,\n        \"num_unique_values\": 247,\n        \"samples\": [\n          -0.6594795174750223,\n          -0.6206425504335826,\n          -0.13906415911973186\n        ],\n        \"semantic_type\": \"\",\n        \"description\": \"\"\n      }\n    },\n    {\n      \"column\": \"number22\",\n      \"properties\": {\n        \"dtype\": \"number\",\n        \"std\": 1.001384083707392,\n        \"min\": -1.7182320498134538,\n        \"max\": 1.7269647902708347,\n        \"num_unique_values\": 362,\n        \"samples\": [\n          -0.1754653329625224,\n          -1.4058927758497684,\n          -1.5762596525572332\n        ],\n        \"semantic_type\": \"\",\n        \"description\": \"\"\n      }\n    },\n    {\n      \"column\": \"acq_time\",\n      \"properties\": {\n        \"dtype\": \"number\",\n        \"std\": 1.0013840837073922,\n        \"min\": -0.9941658393924574,\n        \"max\": 2.740502530342289,\n        \"num_unique_values\": 204,\n        \"samples\": [\n          1.833922286652978,\n          -0.11411965161600443,\n          -0.7509369935245935\n        ],\n        \"semantic_type\": \"\",\n        \"description\": \"\"\n      }\n    },\n    {\n      \"column\": \"confidence\",\n      \"properties\": {\n        \"dtype\": \"number\",\n        \"std\": 1.001384083707392,\n        \"min\": -2.66600352000387,\n        \"max\": 2.183214121282907,\n        \"num_unique_values\": 73,\n        \"samples\": [\n          1.292541493291458,\n          0.05549617663666801,\n          0.20394161463524282\n        ],\n        \"semantic_type\": \"\",\n        \"description\": \"\"\n      }\n    },\n    {\n      \"column\": \"bright_t31\",\n      \"properties\": {\n        \"dtype\": \"number\",\n        \"std\": 1.0013840837073922,\n        \"min\": -3.347170789580394,\n        \"max\": 3.015129429627898,\n        \"num_unique_values\": 195,\n        \"samples\": [\n          -1.3215056973660948,\n          -0.722365317978768,\n          -2.006237559523043\n        ],\n        \"semantic_type\": \"\",\n        \"description\": \"\"\n      }\n    },\n    {\n      \"column\": \"frp\",\n      \"properties\": {\n        \"dtype\": \"number\",\n        \"std\": 1.001384083707392,\n        \"min\": -0.8408761389652692,\n        \"max\": 9.177684593041121,\n        \"num_unique_values\": 202,\n        \"samples\": [\n          0.0657809408543136,\n          -0.6530686010026415,\n          1.6524308305385835\n        ],\n        \"semantic_type\": \"\",\n        \"description\": \"\"\n      }\n    }\n  ]\n}"
            }
          },
          "metadata": {},
          "execution_count": 263
        }
      ]
    },
    {
      "source": [
        "# @title brightness vs number22\n",
        "\n",
        "from matplotlib import pyplot as plt\n",
        "df_feat.plot(kind='scatter', x='brightness', y='number22', s=32, alpha=.8)\n",
        "plt.gca().spines[['top', 'right',]].set_visible(False)"
      ],
      "cell_type": "code",
      "execution_count": 264,
      "outputs": [
        {
          "output_type": "display_data",
          "data": {
            "text/plain": [
              "<Figure size 640x480 with 1 Axes>"
            ],
            "image/png": "[encoded data removed]"
          },
          "metadata": {}
        }
      ],
      "metadata": {
        "cellView": "form",
        "colab": {
          "base_uri": "https://localhost:8080/",
          "height": 449
        },
        "id": "quJ9gjlY0azb",
        "outputId": "f59a2298-09fe-47af-d228-9dd08a559cea"
      }
    },
    {
      "cell_type": "code",
      "metadata": {
        "id": "nUzh5DD_3ox3"
      },
      "source": [
        "from sklearn.model_selection import train_test_split\n",
        "X = df_feat\n",
        "y = fires['output']\n",
        "X_train, X_test, y_train, y_test = train_test_split(X,y,test_size=0.35,random_state=200)"
      ],
      "execution_count": 265,
      "outputs": []
    },
    {
      "cell_type": "markdown",
      "metadata": {
        "id": "Y0RQBIMJ7fSM"
      },
      "source": [
        "# Logistic Regression"
      ]
    },
    {
      "source": [
        "# Check for missing values in X_train\n",
        "missing_values = X_train.isnull().sum()\n",
        "\n",
        "# Print the number of missing values in each column\n",
        "print(missing_values)"
      ],
      "cell_type": "code",
      "metadata": {
        "colab": {
          "base_uri": "https://localhost:8080/"
        },
        "id": "a5lD7KG7zTaG",
        "outputId": "d8a0e4ad-7953-4616-a1cb-a576fd0590b3"
      },
      "execution_count": 266,
      "outputs": [
        {
          "output_type": "stream",
          "name": "stdout",
          "text": [
            "brightness    0\n",
            "number22      1\n",
            "acq_time      1\n",
            "confidence    1\n",
            "bright_t31    1\n",
            "frp           1\n",
            "dtype: int64\n"
          ]
        }
      ]
    },
    {
      "source": [
        "X_train = X_train.dropna()\n",
        "y_train = y_train[X_train.index]"
      ],
      "cell_type": "code",
      "metadata": {
        "id": "GnQ8Rg1dzUDf"
      },
      "execution_count": 267,
      "outputs": []
    },
    {
      "source": [
        "from sklearn.impute import SimpleImputer\n",
        "\n",
        "imputer = SimpleImputer(strategy=\"mean\")\n",
        "X_train = imputer.fit_transform(X_train)"
      ],
      "cell_type": "code",
      "metadata": {
        "id": "jyF7tGixzUZD"
      },
      "execution_count": 268,
      "outputs": []
    },
    {
      "source": [
        "logistic_model = LogisticRegression()\n",
        "logistic_model.fit(X_train, y_train)\n",
        "\n",
        "predictions = logistic_model.predict(X_test)\n",
        "\n",
        "# Print the evaluation metrics\n",
        "print(\"Precision:\", metrics.precision_score(y_test, predictions))\n",
        "print(\"Recall:\", metrics.recall_score(y_test, predictions))\n",
        "print(\"Accuracy:\", metrics.accuracy_score(y_test, predictions))"
      ],
      "cell_type": "code",
      "metadata": {
        "colab": {
          "base_uri": "https://localhost:8080/"
        },
        "id": "lrB7foa-zUyH",
        "outputId": "37183cca-87a1-4ada-b5a5-dce615dff372"
      },
      "execution_count": 269,
      "outputs": [
        {
          "output_type": "stream",
          "name": "stdout",
          "text": [
            "Precision: 0.0\n",
            "Recall: 0.0\n",
            "Accuracy: 1.0\n"
          ]
        }
      ]
    },
    {
      "cell_type": "markdown",
      "metadata": {
        "id": "mLsR9H4w7q6Q"
      },
      "source": [
        "## Prediction"
      ]
    },
    {
      "cell_type": "code",
      "metadata": {
        "id": "gmSCAlJrNeJT",
        "colab": {
          "base_uri": "https://localhost:8080/"
        },
        "outputId": "7dbe862f-9327-4db0-dc1d-e1479d722d2f"
      },
      "source": [
        "#prediction using logistic regression\n",
        "class_label={1:'There is Fire',0:'There is no fire'}\n",
        "x_new=[[12, 4, 9 ,11 ,92, 133]]\n",
        "\n",
        "\n",
        "y_predict=logistic_model.predict(x_new)\n",
        "print(class_label[y_predict[0]])"
      ],
      "execution_count": 270,
      "outputs": [
        {
          "output_type": "stream",
          "name": "stdout",
          "text": [
            "There is no fire\n"
          ]
        }
      ]
    },
    {
      "cell_type": "markdown",
      "metadata": {
        "id": "BoRdqUXf7zha"
      },
      "source": [
        "# KNN"
      ]
    },
    {
      "cell_type": "code",
      "metadata": {
        "id": "e53VcDJlNtek"
      },
      "source": [
        "#importing k nearest neighbour\n",
        "from sklearn.neighbors import KNeighborsClassifier\n",
        "k_nearest_neighbor_model = KNeighborsClassifier(n_neighbors=1)\n",
        "k_nearest_neighbor_model.fit(X_train,y_train)\n",
        "pred = k_nearest_neighbor_model.predict(X_test)"
      ],
      "execution_count": 271,
      "outputs": []
    },
    {
      "cell_type": "code",
      "metadata": {
        "id": "OBkRA2VUN00D",
        "colab": {
          "base_uri": "https://localhost:8080/",
          "height": 581
        },
        "outputId": "69ede7ed-b7e7-4875-cf91-8f5b9ac5bd25"
      },
      "source": [
        "error_rate = []\n",
        "for i in range(1,100):\n",
        "    k_nearest_neighbor_model = KNeighborsClassifier(n_neighbors=i)\n",
        "    k_nearest_neighbor_model.fit(X_train,y_train)\n",
        "    pred_i = k_nearest_neighbor_model.predict(X_test)\n",
        "    error_rate.append(np.mean(pred_i != y_test))\n",
        "\n",
        "\n",
        "plt.figure(figsize=(10,6))\n",
        "plt.plot(range(1,100),error_rate,color='blue', linestyle='dashed', marker='o',\n",
        "         markerfacecolor='red', markersize=10)\n",
        "plt.title('Error Rate vs. K Value')\n",
        "plt.xlabel('K')\n",
        "plt.ylabel('Error Rate')"
      ],
      "execution_count": 272,
      "outputs": [
        {
          "output_type": "execute_result",
          "data": {
            "text/plain": [
              "Text(0, 0.5, 'Error Rate')"
            ]
          },
          "metadata": {},
          "execution_count": 272
        },
        {
          "output_type": "display_data",
          "data": {
            "text/plain": [
              "<Figure size 1000x600 with 1 Axes>"
            ],
            "image/png": "[encoded data removed]"
          },
          "metadata": {}
        }
      ]
    },
    {
      "cell_type": "code",
      "metadata": {
        "id": "ozfoK--1N9Nr",
        "colab": {
          "base_uri": "https://localhost:8080/"
        },
        "outputId": "4e979779-f459-41a8-a7aa-74a78243bcb5"
      },
      "source": [
        "knn = KNeighborsClassifier(n_neighbors=7)\n",
        "knn.fit(X_train,y_train)\n",
        "pred = knn.predict(X_test)\n",
        "print('WITH K=7')\n",
        "print('\\n')\n",
        "print(confusion_matrix(y_test,pred))\n",
        "print('\\n')\n",
        "print(classification_report(y_test,pred))"
      ],
      "execution_count": 273,
      "outputs": [
        {
          "output_type": "stream",
          "name": "stdout",
          "text": [
            "WITH K=7\n",
            "\n",
            "\n",
            "[[128]]\n",
            "\n",
            "\n",
            "              precision    recall  f1-score   support\n",
            "\n",
            "           0       1.00      1.00      1.00       128\n",
            "\n",
            "    accuracy                           1.00       128\n",
            "   macro avg       1.00      1.00      1.00       128\n",
            "weighted avg       1.00      1.00      1.00       128\n",
            "\n"
          ]
        }
      ]
    },
    {
      "cell_type": "code",
      "metadata": {
        "id": "HjZ-u2RgODrj",
        "colab": {
          "base_uri": "https://localhost:8080/"
        },
        "outputId": "98b2db33-86a1-4ba3-9f69-3acc7f9b3a9c"
      },
      "source": [
        "knn = KNeighborsClassifier(n_neighbors=17)\n",
        "knn.fit(X_train,y_train)\n",
        "pred = knn.predict(X_test)\n",
        "print('WITH K=17')\n",
        "print('\\n')\n",
        "print(confusion_matrix(y_test,pred))\n",
        "print('\\n')\n",
        "print(classification_report(y_test,pred))"
      ],
      "execution_count": 274,
      "outputs": [
        {
          "output_type": "stream",
          "name": "stdout",
          "text": [
            "WITH K=17\n",
            "\n",
            "\n",
            "[[128]]\n",
            "\n",
            "\n",
            "              precision    recall  f1-score   support\n",
            "\n",
            "           0       1.00      1.00      1.00       128\n",
            "\n",
            "    accuracy                           1.00       128\n",
            "   macro avg       1.00      1.00      1.00       128\n",
            "weighted avg       1.00      1.00      1.00       128\n",
            "\n"
          ]
        }
      ]
    },
    {
      "cell_type": "code",
      "metadata": {
        "id": "FSxFtTPLOIbb",
        "colab": {
          "base_uri": "https://localhost:8080/"
        },
        "outputId": "84e1d44d-670d-40f0-b27a-61da8a7f7119"
      },
      "source": [
        "knn.score(X_test, y_test)"
      ],
      "execution_count": 275,
      "outputs": [
        {
          "output_type": "execute_result",
          "data": {
            "text/plain": [
              "1.0"
            ]
          },
          "metadata": {},
          "execution_count": 275
        }
      ]
    },
    {
      "cell_type": "code",
      "metadata": {
        "id": "4J8-74YwONkc",
        "colab": {
          "base_uri": "https://localhost:8080/"
        },
        "outputId": "e8036241-319a-4cbe-b5e7-7a5b695be565"
      },
      "source": [
        "from sklearn import metrics\n",
        "print(\"Accuracy:\",metrics.accuracy_score(y_test, pred))\n",
        "print(\"Precision:\",metrics.precision_score(y_test, pred))\n",
        "print(\"Recall:\",metrics.recall_score(y_test, pred))"
      ],
      "execution_count": 276,
      "outputs": [
        {
          "output_type": "stream",
          "name": "stdout",
          "text": [
            "Accuracy: 1.0\n",
            "Precision: 0.0\n",
            "Recall: 0.0\n"
          ]
        }
      ]
    },
    {
      "cell_type": "markdown",
      "metadata": {
        "id": "IfBa5G788H5j"
      },
      "source": [
        "## Prediction"
      ]
    },
    {
      "cell_type": "code",
      "metadata": {
        "id": "dd0utxHHORF8",
        "colab": {
          "base_uri": "https://localhost:8080/"
        },
        "outputId": "a334b29e-0fd0-4d55-a0da-5c829c1220cb"
      },
      "source": [
        "#prediction using knn\n",
        "classes={0:'safe',1:'On Fire'}\n",
        "x_new=[[12, 4, 9 ,11 ,92, 133]]\n",
        "y_predict=knn.predict(x_new)\n",
        "print(classes[y_predict[0]])"
      ],
      "execution_count": 277,
      "outputs": [
        {
          "output_type": "stream",
          "name": "stdout",
          "text": [
            "safe\n"
          ]
        }
      ]
    },
    {
      "cell_type": "markdown",
      "metadata": {
        "id": "r8SyLe_Z8J5B"
      },
      "source": [
        "# SVM"
      ]
    },
    {
      "source": [
        "from sklearn.impute import SimpleImputer\n",
        "\n",
        "imputer = SimpleImputer(strategy=\"mean\")\n",
        "X = imputer.fit_transform(X)\n",
        "X_test = imputer.transform(X_test)"
      ],
      "cell_type": "code",
      "metadata": {
        "id": "ZTMel0HJ1OIS"
      },
      "execution_count": 278,
      "outputs": []
    },
    {
      "source": [
        "from sklearn.ensemble import HistGradientBoostingClassifier\n",
        "\n",
        "model = HistGradientBoostingClassifier()\n",
        "model.fit(X_train, y_train)\n",
        "predictions = model.predict(X_test)"
      ],
      "cell_type": "code",
      "metadata": {
        "id": "YK-3mNBj1Rom"
      },
      "execution_count": 279,
      "outputs": []
    },
    {
      "cell_type": "code",
      "source": [
        "#prediction using svm\n",
        "classes={0:'safe',1:'On Fire'}\n",
        "x_new=[[12, 4, 9 ,11 ,92, 133]]\n",
        "y_predict=svc.predict(x_new)\n",
        "print(classes[y_predict[0]])"
      ],
      "metadata": {
        "colab": {
          "base_uri": "https://localhost:8080/"
        },
        "id": "-xgmzaDaDTwt",
        "outputId": "7344aa9e-9359-4776-97f2-eff017909e80"
      },
      "execution_count": 280,
      "outputs": [
        {
          "output_type": "stream",
          "name": "stdout",
          "text": [
            "safe\n"
          ]
        }
      ]
    },
    {
      "cell_type": "markdown",
      "metadata": {
        "id": "w1h3N6Wa8WPi"
      },
      "source": [
        "# Decision Tree"
      ]
    },
    {
      "source": [
        "!pip install scikit-learn\n",
        "from sklearn.impute import SimpleImputer\n",
        "from sklearn.tree import DecisionTreeClassifier\n",
        "from sklearn import metrics\n",
        "from sklearn.model_selection import train_test_split"
      ],
      "cell_type": "code",
      "metadata": {
        "colab": {
          "base_uri": "https://localhost:8080/"
        },
        "id": "bcTwlxLV1mCs",
        "outputId": "7c9d2cac-d609-4827-82c8-1d1880966e4a"
      },
      "execution_count": 253,
      "outputs": [
        {
          "output_type": "stream",
          "name": "stdout",
          "text": [
            "Requirement already satisfied: scikit-learn in /usr/local/lib/python3.10/dist-packages (1.2.2)\n",
            "Requirement already satisfied: numpy>=1.17.3 in /usr/local/lib/python3.10/dist-packages (from scikit-learn) (1.25.2)\n",
            "Requirement already satisfied: scipy>=1.3.2 in /usr/local/lib/python3.10/dist-packages (from scikit-learn) (1.11.4)\n",
            "Requirement already satisfied: joblib>=1.1.1 in /usr/local/lib/python3.10/dist-packages (from scikit-learn) (1.4.0)\n",
            "Requirement already satisfied: threadpoolctl>=2.0.0 in /usr/local/lib/python3.10/dist-packages (from scikit-learn) (3.4.0)\n"
          ]
        }
      ]
    },
    {
      "source": [
        "import pandas as pd"
      ],
      "cell_type": "code",
      "metadata": {
        "id": "KqhNwtna2Y_C"
      },
      "execution_count": 283,
      "outputs": []
    },
    {
      "source": [
        "X = pd.DataFrame(X)"
      ],
      "cell_type": "code",
      "metadata": {
        "id": "weCtXTlq2ZLs"
      },
      "execution_count": 284,
      "outputs": []
    },
    {
      "source": [
        "missing_values = X.isnull().sum()\n",
        "print(missing_values)"
      ],
      "cell_type": "code",
      "metadata": {
        "colab": {
          "base_uri": "https://localhost:8080/"
        },
        "id": "Frh4fun-2Zmm",
        "outputId": "c8b4d8f3-6f86-4c3c-c69f-2546687980b6"
      },
      "execution_count": 285,
      "outputs": [
        {
          "output_type": "stream",
          "name": "stdout",
          "text": [
            "0    0\n",
            "1    0\n",
            "2    0\n",
            "3    0\n",
            "4    0\n",
            "5    0\n",
            "dtype: int64\n"
          ]
        }
      ]
    },
    {
      "source": [
        "imputer = SimpleImputer(strategy=\"mean\")\n",
        "X = imputer.fit_transform(X)"
      ],
      "cell_type": "code",
      "metadata": {
        "id": "eCbmAwSR1m_8"
      },
      "execution_count": 286,
      "outputs": []
    },
    {
      "source": [
        "X_train, X_test, y_train, y_test = train_test_split(X, y, test_size=0.3, random_state=101)\n",
        "d_tree = DecisionTreeClassifier()\n",
        "d_tree.fit(X_train, y_train)"
      ],
      "cell_type": "code",
      "metadata": {
        "colab": {
          "base_uri": "https://localhost:8080/",
          "height": 74
        },
        "id": "KYi9aO361nZ-",
        "outputId": "58bb5ef7-d613-4de3-ad53-88ac9024bfaa"
      },
      "execution_count": 287,
      "outputs": [
        {
          "output_type": "execute_result",
          "data": {
            "text/plain": [
              "DecisionTreeClassifier()"
            ],
            "text/html": [
              "<style>#sk-container-id-2 {color: black;background-color: white;}#sk-container-id-2 pre{padding: 0;}#sk-container-id-2 div.sk-toggleable {background-color: white;}#sk-container-id-2 label.sk-toggleable__label {cursor: pointer;display: block;width: 100%;margin-bottom: 0;padding: 0.3em;box-sizing: border-box;text-align: center;}#sk-container-id-2 label.sk-toggleable__label-arrow:before {content: \"▸\";float: left;margin-right: 0.25em;color: #696969;}#sk-container-id-2 label.sk-toggleable__label-arrow:hover:before {color: black;}#sk-container-id-2 div.sk-estimator:hover label.sk-toggleable__label-arrow:before {color: black;}#sk-container-id-2 div.sk-toggleable__content {max-height: 0;max-width: 0;overflow: hidden;text-align: left;background-color: #f0f8ff;}#sk-container-id-2 div.sk-toggleable__content pre {margin: 0.2em;color: black;border-radius: 0.25em;background-color: #f0f8ff;}#sk-container-id-2 input.sk-toggleable__control:checked~div.sk-toggleable__content {max-height: 200px;max-width: 100%;overflow: auto;}#sk-container-id-2 input.sk-toggleable__control:checked~label.sk-toggleable__label-arrow:before {content: \"▾\";}#sk-container-id-2 div.sk-estimator input.sk-toggleable__control:checked~label.sk-toggleable__label {background-color: #d4ebff;}#sk-container-id-2 div.sk-label input.sk-toggleable__control:checked~label.sk-toggleable__label {background-color: #d4ebff;}#sk-container-id-2 input.sk-hidden--visually {border: 0;clip: rect(1px 1px 1px 1px);clip: rect(1px, 1px, 1px, 1px);height: 1px;margin: -1px;overflow: hidden;padding: 0;position: absolute;width: 1px;}#sk-container-id-2 div.sk-estimator {font-family: monospace;background-color: #f0f8ff;border: 1px dotted black;border-radius: 0.25em;box-sizing: border-box;margin-bottom: 0.5em;}#sk-container-id-2 div.sk-estimator:hover {background-color: #d4ebff;}#sk-container-id-2 div.sk-parallel-item::after {content: \"\";width: 100%;border-bottom: 1px solid gray;flex-grow: 1;}#sk-container-id-2 div.sk-label:hover label.sk-toggleable__label {background-color: #d4ebff;}#sk-container-id-2 div.sk-serial::before {content: \"\";position: absolute;border-left: 1px solid gray;box-sizing: border-box;top: 0;bottom: 0;left: 50%;z-index: 0;}#sk-container-id-2 div.sk-serial {display: flex;flex-direction: column;align-items: center;background-color: white;padding-right: 0.2em;padding-left: 0.2em;position: relative;}#sk-container-id-2 div.sk-item {position: relative;z-index: 1;}#sk-container-id-2 div.sk-parallel {display: flex;align-items: stretch;justify-content: center;background-color: white;position: relative;}#sk-container-id-2 div.sk-item::before, #sk-container-id-2 div.sk-parallel-item::before {content: \"\";position: absolute;border-left: 1px solid gray;box-sizing: border-box;top: 0;bottom: 0;left: 50%;z-index: -1;}#sk-container-id-2 div.sk-parallel-item {display: flex;flex-direction: column;z-index: 1;position: relative;background-color: white;}#sk-container-id-2 div.sk-parallel-item:first-child::after {align-self: flex-end;width: 50%;}#sk-container-id-2 div.sk-parallel-item:last-child::after {align-self: flex-start;width: 50%;}#sk-container-id-2 div.sk-parallel-item:only-child::after {width: 0;}#sk-container-id-2 div.sk-dashed-wrapped {border: 1px dashed gray;margin: 0 0.4em 0.5em 0.4em;box-sizing: border-box;padding-bottom: 0.4em;background-color: white;}#sk-container-id-2 div.sk-label label {font-family: monospace;font-weight: bold;display: inline-block;line-height: 1.2em;}#sk-container-id-2 div.sk-label-container {text-align: center;}#sk-container-id-2 div.sk-container {/* jupyter's `normalize.less` sets `[hidden] { display: none; }` but bootstrap.min.css set `[hidden] { display: none !important; }` so we also need the `!important` here to be able to override the default hidden behavior on the sphinx rendered scikit-learn.org. See: https://github.com/scikit-learn/scikit-learn/issues/21755 */display: inline-block !important;position: relative;}#sk-container-id-2 div.sk-text-repr-fallback {display: none;}</style><div id=\"sk-container-id-2\" class=\"sk-top-container\"><div class=\"sk-text-repr-fallback\"><pre>DecisionTreeClassifier()</pre><b>In a Jupyter environment, please rerun this cell to show the HTML representation or trust the notebook. <br />On GitHub, the HTML representation is unable to render, please try loading this page with nbviewer.org.</b></div><div class=\"sk-container\" hidden><div class=\"sk-item\"><div class=\"sk-estimator sk-toggleable\"><input class=\"sk-toggleable__control sk-hidden--visually\" id=\"sk-estimator-id-2\" type=\"checkbox\" checked><label for=\"sk-estimator-id-2\" class=\"sk-toggleable__label sk-toggleable__label-arrow\">DecisionTreeClassifier</label><div class=\"sk-toggleable__content\"><pre>DecisionTreeClassifier()</pre></div></div></div></div></div>"
            ]
          },
          "metadata": {},
          "execution_count": 287
        }
      ]
    },
    {
      "source": [
        "predicted = d_tree.predict(X_test)\n",
        "print(metrics.classification_report(y_test, predicted))\n",
        "print(metrics.confusion_matrix(y_test, predicted))\n",
        "print(\"Accuracy:\", metrics.accuracy_score(y_test, predicted))\n",
        "print(\"Precision:\", metrics.precision_score(y_test, predicted))\n",
        "print(\"Recall:\", metrics.recall_score(y_test, predicted))"
      ],
      "cell_type": "code",
      "metadata": {
        "colab": {
          "base_uri": "https://localhost:8080/"
        },
        "id": "K80R-HfJ1n8G",
        "outputId": "42f484c4-7df2-4aae-effd-c8f13c101a23"
      },
      "execution_count": 288,
      "outputs": [
        {
          "output_type": "stream",
          "name": "stdout",
          "text": [
            "              precision    recall  f1-score   support\n",
            "\n",
            "           0       1.00      0.99      1.00       109\n",
            "           1       0.00      0.00      0.00         0\n",
            "\n",
            "    accuracy                           0.99       109\n",
            "   macro avg       0.50      0.50      0.50       109\n",
            "weighted avg       1.00      0.99      1.00       109\n",
            "\n",
            "[[108   1]\n",
            " [  0   0]]\n",
            "Accuracy: 0.9908256880733946\n",
            "Precision: 0.0\n",
            "Recall: 0.0\n"
          ]
        }
      ]
    },
    {
      "cell_type": "code",
      "source": [
        "#prediction using decision tree\n",
        "classes={0:'safe',1:'On Fire'}\n",
        "x_new=[[12, 4, 9 ,11 ,92, 133]]\n",
        "y_predict=d_tree.predict(x_new)\n",
        "print(classes[y_predict[0]])"
      ],
      "metadata": {
        "colab": {
          "base_uri": "https://localhost:8080/"
        },
        "id": "ksXVgZSRDmz7",
        "outputId": "42e8a989-de81-4758-ba7b-61ab8f263f4a"
      },
      "execution_count": 289,
      "outputs": [
        {
          "output_type": "stream",
          "name": "stdout",
          "text": [
            "safe\n"
          ]
        }
      ]
    },
    {
      "cell_type": "markdown",
      "metadata": {
        "id": "fnoQtpoV8oH5"
      },
      "source": [
        "# Naive Bayes"
      ]
    },
    {
      "cell_type": "code",
      "source": [],
      "metadata": {
        "id": "nEj8Uz8Q2pwP"
      },
      "execution_count": null,
      "outputs": []
    },
    {
      "source": [
        "import pandas as pd\n",
        "\n",
        "# Convert X to a pandas.DataFrame object\n",
        "X = pd.DataFrame(X)\n",
        "\n",
        "# Calculate the sum of missing values for each column\n",
        "missing_values = X.isnull().sum()\n",
        "\n",
        "# Print the missing values\n",
        "print(missing_values)"
      ],
      "cell_type": "code",
      "metadata": {
        "colab": {
          "base_uri": "https://localhost:8080/"
        },
        "id": "rpx6hb-22oBX",
        "outputId": "02d60f74-f4a6-4b09-cfb9-350991620428"
      },
      "execution_count": 294,
      "outputs": [
        {
          "output_type": "stream",
          "name": "stdout",
          "text": [
            "0    0\n",
            "1    0\n",
            "2    0\n",
            "3    0\n",
            "4    0\n",
            "5    0\n",
            "dtype: int64\n"
          ]
        }
      ]
    },
    {
      "source": [
        "X = X.dropna()"
      ],
      "cell_type": "code",
      "metadata": {
        "id": "ZOlYDaAH141x"
      },
      "execution_count": 295,
      "outputs": []
    },
    {
      "source": [
        "from sklearn.impute import SimpleImputer\n",
        "imputer = SimpleImputer(strategy=\"mean\")\n",
        "X = imputer.fit_transform(X)"
      ],
      "cell_type": "code",
      "metadata": {
        "id": "azJ30oSK15PR"
      },
      "execution_count": 296,
      "outputs": []
    },
    {
      "source": [
        "# fit a Naive Bayes model to the data\n",
        "G_NB = GaussianNB()\n",
        "G_NB.fit(X_train,y_train)\n",
        "\n",
        "# make predictions\n",
        "predict = G_NB.predict(X_test)\n",
        "\n",
        "# summarize the fit of the model\n",
        "print(metrics.classification_report(y_test, predict))\n",
        "print(metrics.confusion_matrix(y_test, predict))\n",
        "\n",
        "print(\"Accuracy:\",metrics.accuracy_score(y_test, predict))\n",
        "print(\"Precision:\",metrics.precision_score(y_test, predict))\n",
        "print(\"Recall:\",metrics.recall_score(y_test, predict))"
      ],
      "cell_type": "code",
      "metadata": {
        "colab": {
          "base_uri": "https://localhost:8080/"
        },
        "id": "HbJeImzq15nZ",
        "outputId": "02e9bc3b-75f8-42a0-b487-bff28c707601"
      },
      "execution_count": 297,
      "outputs": [
        {
          "output_type": "stream",
          "name": "stdout",
          "text": [
            "              precision    recall  f1-score   support\n",
            "\n",
            "           0       1.00      1.00      1.00       109\n",
            "\n",
            "    accuracy                           1.00       109\n",
            "   macro avg       1.00      1.00      1.00       109\n",
            "weighted avg       1.00      1.00      1.00       109\n",
            "\n",
            "[[109]]\n",
            "Accuracy: 1.0\n",
            "Precision: 0.0\n",
            "Recall: 0.0\n"
          ]
        }
      ]
    },
    {
      "cell_type": "code",
      "source": [
        "#prediction using naive bayes\n",
        "classes={0:'safe',1:'On Fire'}\n",
        "x_new=[[12, 4, 9 ,11 ,92, 133]]\n",
        "y_predict=G_NB.predict(x_new)\n",
        "print(classes[y_predict[0]])"
      ],
      "metadata": {
        "colab": {
          "base_uri": "https://localhost:8080/"
        },
        "id": "l0rGblLSD3YX",
        "outputId": "a1a8fa41-71a0-40ff-947d-5c285209a916"
      },
      "execution_count": 299,
      "outputs": [
        {
          "output_type": "stream",
          "name": "stdout",
          "text": [
            "safe\n"
          ]
        }
      ]
    },
    {
      "cell_type": "markdown",
      "metadata": {
        "id": "-UDlLxU88r0s"
      },
      "source": [
        "# Random Forest"
      ]
    },
    {
      "source": [
        "!pip install scikit-learn"
      ],
      "cell_type": "code",
      "metadata": {
        "colab": {
          "base_uri": "https://localhost:8080/"
        },
        "id": "6vRW_1mO2BV4",
        "outputId": "fc57ae7f-17a1-4d51-c230-faf7f04d3967"
      },
      "execution_count": 300,
      "outputs": [
        {
          "output_type": "stream",
          "name": "stdout",
          "text": [
            "Requirement already satisfied: scikit-learn in /usr/local/lib/python3.10/dist-packages (1.2.2)\n",
            "Requirement already satisfied: numpy>=1.17.3 in /usr/local/lib/python3.10/dist-packages (from scikit-learn) (1.25.2)\n",
            "Requirement already satisfied: scipy>=1.3.2 in /usr/local/lib/python3.10/dist-packages (from scikit-learn) (1.11.4)\n",
            "Requirement already satisfied: joblib>=1.1.1 in /usr/local/lib/python3.10/dist-packages (from scikit-learn) (1.4.0)\n",
            "Requirement already satisfied: threadpoolctl>=2.0.0 in /usr/local/lib/python3.10/dist-packages (from scikit-learn) (3.4.0)\n"
          ]
        }
      ]
    },
    {
      "source": [
        "from sklearn.ensemble import RandomForestClassifier\n",
        "from sklearn import metrics\n",
        "from sklearn.model_selection import train_test_split"
      ],
      "cell_type": "code",
      "metadata": {
        "id": "-5DL_9dz2BmB"
      },
      "execution_count": 301,
      "outputs": []
    },
    {
      "source": [
        "import pandas as pd\n",
        "\n",
        "# Convert X to a pandas.DataFrame object\n",
        "X = pd.DataFrame(X)\n",
        "\n",
        "# Calculate the sum of missing values for each column\n",
        "missing_values = X.isnull().sum()\n",
        "\n",
        "# Print the missing values\n",
        "print(missing_values)"
      ],
      "cell_type": "code",
      "metadata": {
        "colab": {
          "base_uri": "https://localhost:8080/"
        },
        "outputId": "c79c3b1f-6213-47a6-d296-d9f0f8100fd4",
        "id": "V9picPR227oS"
      },
      "execution_count": 304,
      "outputs": [
        {
          "output_type": "stream",
          "name": "stdout",
          "text": [
            "0    0\n",
            "1    0\n",
            "2    0\n",
            "3    0\n",
            "4    0\n",
            "5    0\n",
            "dtype: int64\n"
          ]
        }
      ]
    },
    {
      "source": [
        "# Drop rows with missing values\n",
        "X = X.dropna()\n",
        "y = y.dropna()\n",
        "\n",
        "# OR\n",
        "\n",
        "# Impute missing values\n",
        "from sklearn.impute import SimpleImputer\n",
        "imputer = SimpleImputer(strategy='mean')\n",
        "X = imputer.fit_transform(X)"
      ],
      "cell_type": "code",
      "metadata": {
        "id": "HoEftjio2CJ-"
      },
      "execution_count": 305,
      "outputs": []
    },
    {
      "source": [
        "X_train, X_test, y_train, y_test = train_test_split(X,y, test_size=0.3,random_state=101)\n",
        "\n",
        "random_forest = RandomForestClassifier()\n",
        "random_forest.fit(X_train,y_train)\n",
        "\n",
        "predict = random_forest.predict(X_test)\n",
        "\n",
        "print(metrics.classification_report(y_test, predict))\n",
        "print(metrics.confusion_matrix(y_test, predict))\n",
        "\n",
        "print(\"Accuracy:\",metrics.accuracy_score(y_test, predict))\n",
        "print(\"Precision:\",metrics.precision_score(y_test, predict))\n",
        "print(\"Recall:\",metrics.recall_score(y_test, predict))"
      ],
      "cell_type": "code",
      "metadata": {
        "colab": {
          "base_uri": "https://localhost:8080/"
        },
        "id": "HUlgBwb12Cl6",
        "outputId": "06d34f12-a44a-450e-fa87-82b161915c31"
      },
      "execution_count": 306,
      "outputs": [
        {
          "output_type": "stream",
          "name": "stdout",
          "text": [
            "              precision    recall  f1-score   support\n",
            "\n",
            "           0       1.00      1.00      1.00       109\n",
            "\n",
            "    accuracy                           1.00       109\n",
            "   macro avg       1.00      1.00      1.00       109\n",
            "weighted avg       1.00      1.00      1.00       109\n",
            "\n",
            "[[109]]\n",
            "Accuracy: 1.0\n",
            "Precision: 0.0\n",
            "Recall: 0.0\n"
          ]
        }
      ]
    },
    {
      "cell_type": "code",
      "metadata": {
        "id": "kAoWSIlX9HSF",
        "colab": {
          "base_uri": "https://localhost:8080/"
        },
        "outputId": "8d7849fb-fe5b-49a4-e3f0-371104e72025"
      },
      "source": [
        "#prediction using random forest\n",
        "classes={0:'safe',1:'On Fire'}\n",
        "x_new=[[1, 3, 4 ,5 ,2, 133]]\n",
        "y_predict=random_forest.predict(x_new)\n",
        "print(classes[y_predict[0]])"
      ],
      "execution_count": 309,
      "outputs": [
        {
          "output_type": "stream",
          "name": "stdout",
          "text": [
            "safe\n"
          ]
        }
      ]
    }
  ]
}